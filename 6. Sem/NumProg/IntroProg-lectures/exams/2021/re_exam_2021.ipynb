{
 "cells": [
  {
   "cell_type": "code",
   "execution_count": 1,
   "id": "501fd0b3",
   "metadata": {},
   "outputs": [],
   "source": [
    "import numpy as np\n",
    "import pandas as pd\n",
    "import pandas_datareader\n",
    "from types import SimpleNamespace\n",
    "%load_ext autoreload\n",
    "%autoreload 2\n",
    "\n",
    "%matplotlib inline\n",
    "import matplotlib.pyplot as plt\n",
    "plt.style.use('seaborn-whitegrid')\n",
    "\n",
    "# Import additional libraries: "
   ]
  },
  {
   "cell_type": "markdown",
   "id": "c4863a95",
   "metadata": {},
   "source": [
    "# 1. Regional CO$_2$ emissions"
   ]
  },
  {
   "cell_type": "markdown",
   "id": "70676062",
   "metadata": {},
   "source": [
    "In this exercise, we will investigate the development in CO2 emissions relative to GDP across the world. For this purpose, we apply data obtained from the World Bank Indicators.   \n",
    "\n",
    "You will need to use the following data sets for the period 1990-2016:\n",
    "1. **EN.ATM.CO2E.KT** : CO2 emissions in kilotons. [WB link](https://data.worldbank.org/indicator/EN.ATM.CO2E.KT) \n",
    "2. **NY.GDP.MKTP.PP.KD** : GDP, PPP-corrected in constant 2017 international dollars [WB link](https://data.worldbank.org/indicator/NY.GDP.MKTP.PP.KD)\n",
    "3. **SP.POP.TOTL** : total population [WB link](https://data.worldbank.org/indicator/SP.POP.TOTL)\n",
    "4. **country_region.xlsx** : key between country names and world regions\n",
    "\n",
    "Data sets 1-3 contain annual records for all the world's countries plus a large set of country aggregates. You can download each `data_set` using the following API call"
   ]
  },
  {
   "cell_type": "code",
   "execution_count": 2,
   "id": "4a4d77cc",
   "metadata": {},
   "outputs": [],
   "source": [
    "from pandas_datareader import wb\n",
    "df = wb.download(indicator=data_set, country=[], start=1990, end=2016)"
   ]
  },
  {
   "cell_type": "markdown",
   "id": "9a0dcec1",
   "metadata": {},
   "source": [
    "**Notes:**\n",
    "The data set **country_region.xlsx** is available together with this notebook.   \n",
    "Setting `countrty=[]` implies getting all countries in a data set by the syntax of the World Bank API.   \n",
    "Follow the links above if there is a problem with the API call and download manually.    "
   ]
  },
  {
   "cell_type": "markdown",
   "id": "6398c104",
   "metadata": {},
   "source": [
    "**Question 1:** Data cleaning. \n",
    "* Download data sets 1-3. Exclude all entries in the data sets that are not a country listed in country_region.xlsx. \n",
    "* Assign a world region to each country in data sets 1-3 using country_region.xlsx. \n",
    "* If a data-point in one data set is `NaN` for country $x$ in year $y$, then delete it together with the corresponding data-points for country $x$ in year $y$ in the 2 other data sets.\n",
    "\n",
    "Check that the resulting number of rows for a dataset containing GDP, population and CO2 is 4660. "
   ]
  },
  {
   "cell_type": "markdown",
   "id": "80a2f68f",
   "metadata": {},
   "source": [
    "**Question 2:** Regional CO2 emissions. Calculate the regional CO2 emissions per dollar GDP on an annual basis. That is, for region $R$ in year $t$ compute\n",
    "$$\n",
    "\\frac{\\sum_{j \\in R} \\text{CO2}_{j,t}}{\\sum_{j \\in R} Y_{j,t}}\n",
    "$$\n",
    "where $Y_{j}$ denotes the GDP of country $j$. \n",
    "\n",
    "Plot CO2 emissions per dollar GDP for all regions in the way you find most presentable and comment. "
   ]
  },
  {
   "cell_type": "markdown",
   "id": "aa6dc645",
   "metadata": {},
   "source": [
    "**Question 3:** Growth rates. \n",
    "* For each region $R$, calculate population weighted average $\\text{CO2}_{R,t}$  and GDP pr year. See weighted average definition below.\n",
    "* Calculate the annual **growth rates** of averaged GDP and CO2 for each region.\n",
    "* Finally, create **one subplot** per region containing the two associated growth rates. Make a brief comment. (*tip: better use a loop for this instead of code repetition*)\n",
    "\n",
    "The weighted averages of of GDP and CO2 for region $R$ is obtained by first calculating the weights:\n",
    "$$\n",
    "w_{i,t} = \\frac{POP_{i,t}}{\\sum \\limits_{k \\in R}POP_{k,t}}\n",
    "$$\n",
    "for each country $i \\in R$.   \n",
    "Then get average regional GDP by\n",
    "$$\n",
    "\\bar{Y}_{R,t} =  \\sum \\limits_{i \\in R}w_{i,t}Y_{i,t}\n",
    "$$\n",
    "and similarly for CO2.\n",
    "\n",
    "The growth rate for regional GDP per capita is then \n",
    "$$\n",
    "\\bar{Y}^{\\Delta}_{R,t} = \\frac{\\bar{Y}_{R,t}}{\\bar{Y}_{R,t-1}} - 1\n",
    "$$\n",
    "and similarly for regional CO2 pr capita"
   ]
  },
  {
   "cell_type": "markdown",
   "id": "a4a068ae",
   "metadata": {},
   "source": [
    "# 2. Risky assets"
   ]
  },
  {
   "cell_type": "markdown",
   "id": "fcc79d16",
   "metadata": {},
   "source": [
    "The consumption savings model with uncertainty in both income and interest rate."
   ]
  },
  {
   "cell_type": "markdown",
   "id": "07f716d3",
   "metadata": {},
   "source": [
    "A **household** lives two periods.\n",
    "\n",
    "In the **second period** it gets utility from **consuming** and **leaving a bequest**,\n",
    "\n",
    "$$\n",
    "\\begin{aligned}\n",
    "v_{2}(m_{2})&= \\max_{c_{2}}\\frac{c_{2}^{1-\\rho}}{1-\\rho}+\\nu\\frac{(a_2+\\kappa)^{1-\\rho}}{1-\\rho}\\\\\n",
    "\\text{s.t.} \\\\\n",
    "a_2 &= m_2-c_2 \\\\\n",
    "a_2 &\\geq 0\n",
    "\\end{aligned}\n",
    "$$"
   ]
  },
  {
   "cell_type": "markdown",
   "id": "c06cfc73",
   "metadata": {
    "tags": []
   },
   "source": [
    "* $m_2$ is cash-on-hand \n",
    "* $c_2$ is consumption\n",
    "* $a_2$ is end-of-period assets \n",
    "* $\\rho > 1$ is the risk aversion coefficient\n",
    "* $\\nu > 0 $ is the strength of the bequest motive\n",
    "* $\\kappa > 0$ is the degree of luxuriousness in the bequest motive  \n",
    "* $a_2\\geq0$ ensures the household *cannot* die in debt"
   ]
  },
  {
   "cell_type": "markdown",
   "id": "10e85e7f",
   "metadata": {},
   "source": [
    "The **value function** $v_t(m_t)$ measures the household's value of having $m_t$ at the beginning of period $t$."
   ]
  },
  {
   "cell_type": "markdown",
   "id": "3137855c",
   "metadata": {},
   "source": [
    "In the **first period**, the household gets utility from consuming and takes into account that it will also live in the next-period, where it receives a stochastic income.   \n",
    "\n",
    "We assume that the consumption decision is made at the **beginning** of the period.   \n",
    "\n",
    "We denote the interest rate on savings from period 1 to 2 by $r_{1,2}$. It is assumed to be **unknown** until the end of the period 1; ie. *after* the consumption decision is made.  \n",
    "\n",
    "$$\n",
    "\\begin{aligned}\n",
    "\tv_1(m_1) &= \\max_{c_1}\\frac{c_{1}^{1-\\rho}}{1-\\rho}+\\beta\\mathbb{E}_{1}\\left[v_2(m_2)\\right]\\\\&\\text{s.t.}&\\\\\n",
    "\ta_1 & = m_1-c_1\\\\\n",
    "\tm_2 &= (1+r_{1,2})a_1+y_2 \\\\\n",
    "\tr_{1,2} &= \\begin{cases}\n",
    "\tr_0 - \\Delta^r & \\text{with prob. }\\frac{1}{2}\\\\\n",
    "\tr_0 + \\Delta^r & \\text{with prob. }\\frac{1}{2} \\\\\n",
    "\t\\end{cases}\\\\\n",
    "\ty_{2} &= \\begin{cases}\n",
    "\t1-\\Delta^y & \\text{with prob. }\\frac{1}{2}\\\\\n",
    "\t1+\\Delta^y & \\text{with prob. }\\frac{1}{2} \n",
    "\t\\end{cases}\\\\\n",
    "\ta_1 & \\geq0\n",
    "\\end{aligned}\n",
    "$$"
   ]
  },
  {
   "cell_type": "markdown",
   "id": "46f57feb",
   "metadata": {},
   "source": [
    "* $m_1$ is cash-on-hand in period 1\n",
    "* $c_1$ is consumption in period 1\n",
    "* $a_1$ is end-of-period assets in period 1\n",
    "* $\\beta > 0$ is the discount factor\n",
    "* $\\mathbb{E}_1$ is the expectation operator conditional on information in the *beginning* of period 1\n",
    "* $y_2$ is income in period 2\n",
    "* $\\Delta^y \\in (0,1)$ is the level of income risk\n",
    "* $r_0$ is the expected interest rate\n",
    "* $\\Delta^r \\in (0,r_0)$ is the level of interest rate risk\n",
    "* $a_1\\geq0$ ensures the household *cannot* borrow"
   ]
  },
  {
   "cell_type": "code",
   "execution_count": 1,
   "id": "3b4b1922",
   "metadata": {},
   "outputs": [],
   "source": [
    "# Parameters\n",
    "rho = 8\n",
    "kappa = 0.5\n",
    "nu = 0.2\n",
    "r0 = 0.3\n",
    "Delta_r = 0.29\n",
    "Delta_y = 0.5\n",
    "beta = 0.98"
   ]
  },
  {
   "cell_type": "markdown",
   "id": "295c1b29",
   "metadata": {},
   "source": [
    "Note: $r_0$ and $\\Delta^r$ are somewhat extreme - that is just for exposition. "
   ]
  },
  {
   "cell_type": "markdown",
   "id": "412b370a",
   "metadata": {},
   "source": [
    "**Question 1:** Solve the model for both periods and obtain value functions $v_1(m_1), v_2(m_2)$ together with the optimal consumption functions $c^*_1(m_1), c^*_2(m_2)$.   \n",
    "Plot $v_1(m_1), v_2(m_2)$ in one graph and  $c^*_1(m_1), c^*_2(m_2)$ in another. "
   ]
  },
  {
   "cell_type": "markdown",
   "id": "982088cd",
   "metadata": {},
   "source": [
    "**Question 2:** Now set $\\Delta^r = 0$ and solve the model once again. Plot the associated $c^*_1(m_1), c^*_2(m_2)$ and compare them with the consumption functions from the solution in Question 1."
   ]
  },
  {
   "cell_type": "markdown",
   "id": "8b9d6a44",
   "metadata": {},
   "source": [
    "**Question 3** Question 3 below has **2 options**. You can **freely choose** which one you want to answer. (*You can of course answer both if you like*). "
   ]
  },
  {
   "cell_type": "markdown",
   "id": "af491898",
   "metadata": {},
   "source": [
    "**Question 3 - option 1:** Simulate the period 2 choices of $N$ households both for the case where $\\Delta^r=0.29$ and where $\\Delta^r=0$.   \n",
    "You can use the same distribution of $m_1$ for both cases as specified below.   \n",
    "Plot the two distributions of $c_1$ and comment. \n",
    "Optionally, you can also inspect the two distributions of $c_2$ and check that you understand their shapes.  "
   ]
  },
  {
   "cell_type": "code",
   "execution_count": null,
   "id": "2c3e4d77",
   "metadata": {},
   "outputs": [],
   "source": [
    "np.random.seed(2021)\n",
    "simN = 50000\n",
    "sim_m1 = np.fmax(np.random.normal(1, 0.05, size = simN), 0)"
   ]
  },
  {
   "cell_type": "markdown",
   "id": "c582b099",
   "metadata": {},
   "source": [
    "**Question 3 - option 2:** Generalizing the set of possible interest rate outcomes.   \n",
    "We now consider the case where the interest rate has $N = 2n$ different possible realizations.   \n",
    "Specifically, $r$ has $n$ possible outcomes higher than $r_0$, and $n$ outcomes lower than $r_0$, which are **uniformly** distributed:\n",
    "$$\n",
    "\\begin{aligned}\n",
    "\tr &= \\begin{cases}\n",
    "\tr_0 - n\\Delta^r & \\text{with prob. }\\frac{1}{N}\\\\\n",
    "\tr_0 - (n-1)\\Delta^r & \\text{with prob. }\\frac{1}{N}\\\\\n",
    "\tr_0 - (n-2)\\Delta^r & \\text{with prob. }\\frac{1}{N}\\\\\n",
    "    \\vdots & \\\\\n",
    "\tr_0 - \\Delta^r & \\text{with prob. }\\frac{1}{N}\\\\\n",
    "\tr_0 + \\Delta^r & \\text{with prob. }\\frac{1}{N}\\\\\n",
    "    \\vdots & \\\\\n",
    "\tr_0 + (n-1)\\Delta^r & \\text{with prob. }\\frac{1}{N} \\\\\n",
    "\tr_0 + n\\Delta^r & \\text{with prob. }\\frac{1}{N} \\\\\n",
    "\t\\end{cases}\\\\\n",
    "\\end{aligned}\n",
    "$$\n",
    "\n",
    "Implement this generalized specification in code.   \n",
    "Test the model on the parameterization below and plot $c^*_1(m_1), c^*_2(m_2)$. "
   ]
  },
  {
   "cell_type": "code",
   "execution_count": 11,
   "id": "df4f6dad",
   "metadata": {},
   "outputs": [],
   "source": [
    "# New parameters:\n",
    "r0 = 0.3\n",
    "Delta_r = 0.05\n",
    "n = 5\n",
    "N = 2*5\n",
    "# Remaining parameters are the same as in Question 1"
   ]
  },
  {
   "cell_type": "markdown",
   "id": "4deb193d",
   "metadata": {},
   "source": [
    "# 3. Interpolation by polynomial"
   ]
  },
  {
   "cell_type": "markdown",
   "id": "9eaad947",
   "metadata": {},
   "source": [
    "We can use interpolation when dealing with some function $f$ that is very heavy to  calculate. That is, we have a large set of points $X = \\{x_i\\}_{i=1}^{N}$ on which we want to know the function value $f(x_i)$, but we might not have sufficiently computing power for it.   \n",
    "\n",
    "Therefore, we take out a subset $Z \\subset X$ and calulate $f$ on the elements of $Z$. Whenever we want to know $f(x)$ for some $x\\in X$ that is not also in our pre-computation set $Z$, we use interpolation between neighboring points to $x$ in $Z$ for which the function value has been calculated. To get an **estimate** of $f(x)$, we then interpolate between these pre-calculated neighboring points. \n",
    "\n",
    "In lecture 11, we saw how to write up a *linear interpolation* between a set of pre-calculated function values. \n",
    "\n",
    "In the current exercise, we will use **a polynomial** to interpolate between pre-calculated data points. \n",
    "\n",
    "(*Note: the type of interpolation we consider below is only practical in a modified version. It is useful as an introduction, however.*) "
   ]
  },
  {
   "cell_type": "markdown",
   "id": "f64c52f5",
   "metadata": {},
   "source": [
    "**Polynomial interpolation**   \n",
    "Assume we have a set of data points $D = \\{(y_i,x_i)\\}_{i=1}^{n}$.  \n",
    "\n",
    "We now want to create a polynomial $p$ of degree $n-1$ such that $y_i = p(x_i)$ *exactly* for all $x_i,y_i \\in D$.\n",
    "\n",
    "We can obtain such a polynomial $p$ by the following steps:\n",
    "$$\n",
    "\\begin{align}\n",
    "\tp(x) & = \\sum \\limits_{i = 1}^{n} y_i \\times l_i(x) \\\\\n",
    "\tl_i(x) & = \\prod \\limits_{j \\ne i} \\frac{x - x_j}{x_i - x_j}\n",
    "\\end{align}\n",
    "$$"
   ]
  },
  {
   "cell_type": "markdown",
   "id": "1921bfe2",
   "metadata": {},
   "source": [
    "**Example**   \n",
    "Say we have the function $f(x) = x^2 - 1$. We can then construct our set of data points $D$.   \n",
    "To do so, we evaluate $f$ in the points $\\{1, 3, 5\\}$:  \n",
    "* $f(1) = 0$\n",
    "* $f(3) = 8$\n",
    "* $f(5) = 24$\n",
    "\n",
    "Thus we have $D = \\{(0,1), (8,3), (24,5)\\}$\n",
    "\n",
    "Interpolating our function $f(x) = x^2 - 1$ at some $\\hat{x} \\in [1,5]$ is then given by\n",
    "\n",
    "$$\n",
    "p(\\hat{x})  =  0 \\times l_1(\\hat{x}) + 3 \\times l_2(\\hat{x}) + 5 \\times l_3 (\\hat{x}) \n",
    "$$\n"
   ]
  },
  {
   "cell_type": "markdown",
   "id": "03d692da",
   "metadata": {},
   "source": [
    "$$\n",
    "\\begin{align}\n",
    "\tl_1(\\hat{x}) = \\frac{(\\hat{x} - 3)}{(1 - 3)} \\frac{(\\hat{x} - 5)}{(1 - 5)}, \\:\\: \n",
    "    l_2(\\hat{x}) = \\frac{(\\hat{x} - 1)}{(3 - 1)} \\frac{(\\hat{x} - 5)}{(3 - 5)}, \\:\\: \n",
    "    l_3(\\hat{x}) = \\frac{(\\hat{x} - 1)}{(5 - 1)} \\frac{(\\hat{x} - 3)}{(5 - 3)}\n",
    "\\end{align}\n",
    "$$"
   ]
  },
  {
   "cell_type": "markdown",
   "id": "7edd1cc6",
   "metadata": {},
   "source": [
    "**Algorithm**   \n",
    "First evaluate the function $f$ on the set of points $X$ so as to obtain the associated function values $Y$. Then follow the pseudo-code below.     \n",
    "\n",
    "<img src=\"poly_algo_fig.png\" style=\"width: 300px;\"/> \n",
    "\n",
    "**Question 1:** Implement the algorithm to interpolate function values of $f$ to the point $\\hat{x}$ "
   ]
  },
  {
   "cell_type": "code",
   "execution_count": 15,
   "id": "2010e1fa",
   "metadata": {},
   "outputs": [],
   "source": [
    "def polynomial_interpol(x, X, Y):\n",
    "    pass"
   ]
  },
  {
   "cell_type": "markdown",
   "id": "22573a12",
   "metadata": {},
   "source": [
    "  You can test your `polynomial_interpol` on the function $f(x) = x^3$ "
   ]
  },
  {
   "cell_type": "code",
   "execution_count": null,
   "id": "e2587a2e",
   "metadata": {},
   "outputs": [],
   "source": [
    "f = lambda x: x**3\n",
    "\n",
    "X1 = np.array([1, 2, 2.5, 4])\n",
    "X2 = np.array([0.5, 2.2, 7, 12.9])\n",
    "\n",
    "Y1 = f(X1)\n",
    "Y2 = f(X2)\n",
    "\n",
    "x = 3.2 \n",
    "\n",
    "# Note: the result should be the same in both cases below \n",
    "y1_interpol = polynomial_interpol(x, X1, Y1)\n",
    "print(f'f(x) = {f(x): .7f}  interpolated y = {y1_interpol: .7f}')\n",
    "\n",
    "y2_interpol = polynomial_interpol(x, X2, Y2)\n",
    "print(f'f(x) = {f(x): .7f}  interpolated y = {y2_interpol: .7f}')\n"
   ]
  }
 ],
 "metadata": {
  "kernelspec": {
   "display_name": "Python 3",
   "language": "python",
   "name": "python3"
  },
  "language_info": {
   "codemirror_mode": {
    "name": "ipython",
    "version": 3
   },
   "file_extension": ".py",
   "mimetype": "text/x-python",
   "name": "python",
   "nbconvert_exporter": "python",
   "pygments_lexer": "ipython3",
   "version": "3.8.8"
  },
  "toc-autonumbering": false
 },
 "nbformat": 4,
 "nbformat_minor": 5
}
