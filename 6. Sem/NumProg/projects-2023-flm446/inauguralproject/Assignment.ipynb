{
 "cells": [
  {
   "attachments": {},
   "cell_type": "markdown",
   "metadata": {},
   "source": [
    "\n",
    "# Inaugural project\n"
   ]
  },
  {
   "attachments": {},
   "cell_type": "markdown",
   "metadata": {},
   "source": [
    "### Question 1 "
   ]
  },
  {
   "cell_type": "code",
   "execution_count": null,
   "metadata": {},
   "outputs": [],
   "source": [
    "%load_ext autoreload\n",
    "%autoreload 2"
   ]
  },
  {
   "attachments": {},
   "cell_type": "markdown",
   "metadata": {},
   "source": [
    "I import the QuestionClass from the Question file and assign it to question"
   ]
  },
  {
   "cell_type": "code",
   "execution_count": null,
   "metadata": {},
   "outputs": [],
   "source": [
    "from Question import  QuestionClass\n",
    "question = QuestionClass()"
   ]
  },
  {
   "attachments": {},
   "cell_type": "markdown",
   "metadata": {},
   "source": [
    "I then call the method question_1 which illustrates how $\\frac{H_f}{H_m}$ depends on $\\alpha $. question_1 loops through the results from the solve_discrete method from the HouseholdSpecializationModelClass for combinations of alpha and sigma. It then creates two sets of arrays, one for $H_M$ and one for $H_F$. There are three arrays in each set, one for each $\\sigma$, that contains the value of either $H_M$ or $H_F$ for the different values of $\\alpha$. It then creates three arrays for the ratios based on the arrays for $H_M$ and $H_F$ and then it plots the ratio arrays against $\\alpha$. The result is figure 1. Figure 1 shows that $\\frac{H_f}{H_m}$ is higher for larger $\\alpha$. Figure 1 also shows that the effect of $\\alpha$ on $\\frac{H_f}{H_m}$ is growing in $\\sigma$."
   ]
  },
  {
   "cell_type": "code",
   "execution_count": null,
   "metadata": {},
   "outputs": [],
   "source": [
    "question.question_1(do_plot = True)"
   ]
  },
  {
   "attachments": {},
   "cell_type": "markdown",
   "metadata": {},
   "source": [
    "### Question 2 "
   ]
  },
  {
   "attachments": {},
   "cell_type": "markdown",
   "metadata": {},
   "source": [
    "I call the method question_2_and_3 with discrete set to true. This method uses the solve_wF_vec method from the HouseholdSpecializationModelClass, which solves the model for different values of the female wage and creates arrays that contain the values of $H_M$ and $H_F$ in the solution. The question_2_and_3 then uses these arrays to compute the log ratios and plots these against the log wage ratio. This creates figure 2 which showes that log($\\frac{H_F}{H_M}$) is decreasing in log($\\frac{W_F}{W_M}$) except for a part where log($\\frac{H_F}{H_M}$) remains at 0 even though log($\\frac{W_F}{W_M}$) is increasing."
   ]
  },
  {
   "cell_type": "code",
   "execution_count": null,
   "metadata": {},
   "outputs": [],
   "source": [
    "question.question_2_and_3(discrete = True, do_plot = True)"
   ]
  },
  {
   "attachments": {},
   "cell_type": "markdown",
   "metadata": {},
   "source": [
    "### Question 3"
   ]
  },
  {
   "attachments": {},
   "cell_type": "markdown",
   "metadata": {},
   "source": [
    "I again call the method question_2_and_3 but this time with discrete equal False. The solve.w_F_vec method then instead of using the solve_discrete method to solve the model, uses the solve method. The solve method uses a minimizer to minimize the negative of utility. It loops through different start guesses since the minimizing arguments seem to be sensitive to starting guesses. After finding the minimizing arguments the rest of the process is the same. This creates figure 3 which shows that log($\\frac{H_F}{H_M}$) is linearly decreasing in log($\\frac{W_F}{W_M}$)."
   ]
  },
  {
   "cell_type": "code",
   "execution_count": null,
   "metadata": {},
   "outputs": [],
   "source": [
    "question.question_2_and_3(discrete = False, do_plot = True)"
   ]
  },
  {
   "attachments": {},
   "cell_type": "markdown",
   "metadata": {},
   "source": [
    "### Question 4"
   ]
  },
  {
   "attachments": {},
   "cell_type": "markdown",
   "metadata": {},
   "source": [
    "I call the metod question_4_and_5 with question5 set to False. When question5 is set to False the model considered is the original model, whereas when question5 is set to True the extended model is used. The estimate method uses the solve_wF_vec method with discrete set to True to solve the model and then uses the run_regression method to get estimates of beta0 and beta1. It then uses the beta0 and beta1 to calculate the error function which it then minimizes by repeadetly using the solve_wF_vec method and run_regression method for different $\\alpha$ and $\\sigma$ (when question5 is False) and $\\sigma$ and $\\epsilon_F$ (when question5 is True). The question_4_and_5 method then uses the minimizing arguments to solve the model using the solve_wF_vec method and then calculates the ratios and plots them against the data ratios.\n",
    "The arguments that minimize the given error function is $\\alpha = 0.98$ and $\\sigma = 0.0993$. Figure 4 plots the relationship between the ratios as described by the data and also the ratios based on the model when using the minimizing arguments for $\\alpha$ and $\\sigma$. As seen the ratios are identically and the model is thereby able to perfectly match the data. The economic interpretation of the results is that females are incredibly more productive at home production than males and that the inputs of females and males into home production is close to perfect complements."
   ]
  },
  {
   "cell_type": "code",
   "execution_count": null,
   "metadata": {},
   "outputs": [],
   "source": [
    "question.question_4_and_5(question5 = False, do_plot = True)"
   ]
  },
  {
   "attachments": {},
   "cell_type": "markdown",
   "metadata": {},
   "source": [
    "### Question 5"
   ]
  },
  {
   "attachments": {},
   "cell_type": "markdown",
   "metadata": {},
   "source": [
    "I propose a different expression for the disutility that arises from working. The maximization problem after the change is:\n",
    "$$ \\underset{L_M,H_M,L_F,H_F}{max} \\frac{Q^{1-\\rho}}{1-\\rho}-\\nu(\\frac{L_M^{1+\\frac{1}{\\epsilon}}}{1+\\frac{1}{\\epsilon}} + \\frac{H_M^{1+\\frac{1}{\\epsilon}}}{1+\\frac{1}{\\epsilon}} + \\frac{L_F^{1+\\frac{1}{\\epsilon}}}{1+\\frac{1}{\\epsilon}} + \\frac{H_F^{1+\\frac{1}{\\epsilon_F}}}{1+\\frac{1}{\\epsilon_F}})$$\n",
    "Thus disutility now comes from labor and home inputs individually and females home input have a different epsilon than the other forms of input. When fitting this model to the data the minimizing arguments are $\\sigma = 0.88$ and $\\epsilon_F = 1.59$. The effect of $\\epsilon_F$ is unclear, but if $H_F$ isn't low then a  higher $\\epsilon_F$ relative to $\\epsilon$ means that females suffer less disutility from home input than from other input and also less than men suffer. Figure 5 shows the ratios from the data and the ratios based on the minimizing arguments. It can be seen that this extension of the model helps matching the data relative to the baseline parameters. But the relationship between the ratios are no longer linear which is a problem."
   ]
  },
  {
   "cell_type": "code",
   "execution_count": null,
   "metadata": {},
   "outputs": [],
   "source": [
    "question.question_4_and_5(question5 = True, do_plot = True)"
   ]
  }
 ],
 "metadata": {
  "kernelspec": {
   "display_name": "base",
   "language": "python",
   "name": "python3"
  },
  "language_info": {
   "codemirror_mode": {
    "name": "ipython",
    "version": 3
   },
   "file_extension": ".py",
   "mimetype": "text/x-python",
   "name": "python",
   "nbconvert_exporter": "python",
   "pygments_lexer": "ipython3",
   "version": "3.9.13"
  },
  "orig_nbformat": 4
 },
 "nbformat": 4,
 "nbformat_minor": 2
}
