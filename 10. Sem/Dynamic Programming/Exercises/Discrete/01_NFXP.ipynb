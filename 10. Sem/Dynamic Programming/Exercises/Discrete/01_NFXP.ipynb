{
 "cells": [
  {
   "cell_type": "code",
   "execution_count": 1,
   "metadata": {},
   "outputs": [],
   "source": [
    "# magics: ensures that any changes to the modules loaded below will be re-loaded automatically\n",
    "%load_ext autoreload\n",
    "%autoreload 2\n",
    "%load_ext line_profiler\n",
    "\n",
    "# load general packages\n",
    "import numpy as np\n",
    "import matplotlib.pyplot as plt\n",
    "\n",
    "# load modules related to this exercise\n",
    "from model_zucher import zurcher\n",
    "from Solve_NFXP import solve_NFXP\n",
    "import estimate_NFXP as estimate"
   ]
  },
  {
   "cell_type": "markdown",
   "metadata": {},
   "source": [
    "#### Before solving the exercise, you should download line_profiler. Line_profiler is a tool to check the performance of our code. To install line_profiler, you can open anaconda prompt and write \"pip install line-profiler\" (without the \" \" of course). If you want to know more about line_profiler, check the link below:\n",
    "\n",
    "https://github.com/rkern/line_profiler."
   ]
  },
  {
   "cell_type": "markdown",
   "metadata": {},
   "source": [
    "# Exercise 1"
   ]
  },
  {
   "cell_type": "markdown",
   "metadata": {},
   "source": [
    "#### Consider the engine replacement model given by:\n",
    "\n",
    "$$\n",
    "V(x,\\varepsilon) = \\max_{d\\in \\{0,1\\}} \\big\\{ u(x,d) + \\varepsilon_d + \\beta\n",
    "\\underbrace{\\int_{X} \\int_{\\Omega} V(x',\\varepsilon') \\pi(x'|x,d) q(\\varepsilon'|x') dx' d\\varepsilon' }_{EV(x,d)} \\big\\}\n",
    "$$\n",
    "\n",
    "Where $ \\varepsilon $ is extreme value Type I distribued and utility is given by:\n",
    "\n",
    "$$\n",
    "u(x,d)=\\left \\{\n",
    "\\begin{array}{ll}\n",
    "    -RC-c(0,\\theta_1) & \\text{if }d=\\text{replace}=1 \\\\\n",
    "    -c(x,\\theta_1) & \\text{if }d=\\text{keep}=0\n",
    "\\end{array} \\right.\n",
    "$$\n",
    "\n",
    "Here\n",
    "\n",
    "- $ RC $ = replacement cost  \n",
    "- $ c(x,\\theta_1) $ = cost of maintenance with preference parameters $ \\theta_1 $  \n",
    "\n",
    "\n"
   ]
  },
  {
   "cell_type": "markdown",
   "metadata": {},
   "source": [
    "#### 1. Look at ReadMe.txt to get an overview of the code"
   ]
  },
  {
   "cell_type": "markdown",
   "metadata": {},
   "source": [
    "#### 2. Invistigate how the code works, that is ensure you understand:\n",
    "<il type =\"a\">\n",
    "<li> zurcher.init</li>\n",
    "<li> zurcher.setup</li>\n",
    "<li> zurcher.create_grid</li>\n",
    "<li> zucher.state_transition </li>\n",
    "<li> zucher.bellman </li>\n",
    "\n",
    "You can see how they are called below\n",
    "    "
   ]
  },
  {
   "attachments": {},
   "cell_type": "markdown",
   "metadata": {},
   "source": [
    "#### 3. Run the code below and make sure you understand what we are printing. \n",
    "What does the last transition probability in each row (equal to 0.05) come from?\n",
    "- This comes from the fact that $p$ must sum to one and since 0.65+0.2+0.1=0.95. Therefore, we are lacking 0.05"
   ]
  },
  {
   "cell_type": "code",
   "execution_count": 2,
   "metadata": {},
   "outputs": [
    {
     "name": "stdout",
     "output_type": "stream",
     "text": [
      "Model grid:\n",
      " [ 0  1  2  3  4  5  6  7  8  9 10 11]\n",
      "Transition probabilities conditional on not replacing:\n",
      " [[0.65 0.2  0.1  0.05 0.   0.   0.   0.   0.   0.   0.   0.  ]\n",
      " [0.   0.65 0.2  0.1  0.05 0.   0.   0.   0.   0.   0.   0.  ]\n",
      " [0.   0.   0.65 0.2  0.1  0.05 0.   0.   0.   0.   0.   0.  ]\n",
      " [0.   0.   0.   0.65 0.2  0.1  0.05 0.   0.   0.   0.   0.  ]\n",
      " [0.   0.   0.   0.   0.65 0.2  0.1  0.05 0.   0.   0.   0.  ]\n",
      " [0.   0.   0.   0.   0.   0.65 0.2  0.1  0.05 0.   0.   0.  ]\n",
      " [0.   0.   0.   0.   0.   0.   0.65 0.2  0.1  0.05 0.   0.  ]\n",
      " [0.   0.   0.   0.   0.   0.   0.   0.65 0.2  0.1  0.05 0.  ]\n",
      " [0.   0.   0.   0.   0.   0.   0.   0.   0.65 0.2  0.1  0.05]\n",
      " [0.   0.   0.   0.   0.   0.   0.   0.   0.   0.65 0.2  0.15]\n",
      " [0.   0.   0.   0.   0.   0.   0.   0.   0.   0.   0.65 0.35]\n",
      " [0.   0.   0.   0.   0.   0.   0.   0.   0.   0.   0.   1.  ]]\n",
      "Transition probabilities conditional on replacing:\n",
      " [[0.65 0.2  0.1  0.05 0.   0.   0.   0.   0.   0.   0.   0.  ]\n",
      " [0.65 0.2  0.1  0.05 0.   0.   0.   0.   0.   0.   0.   0.  ]\n",
      " [0.65 0.2  0.1  0.05 0.   0.   0.   0.   0.   0.   0.   0.  ]\n",
      " [0.65 0.2  0.1  0.05 0.   0.   0.   0.   0.   0.   0.   0.  ]\n",
      " [0.65 0.2  0.1  0.05 0.   0.   0.   0.   0.   0.   0.   0.  ]\n",
      " [0.65 0.2  0.1  0.05 0.   0.   0.   0.   0.   0.   0.   0.  ]\n",
      " [0.65 0.2  0.1  0.05 0.   0.   0.   0.   0.   0.   0.   0.  ]\n",
      " [0.65 0.2  0.1  0.05 0.   0.   0.   0.   0.   0.   0.   0.  ]\n",
      " [0.65 0.2  0.1  0.05 0.   0.   0.   0.   0.   0.   0.   0.  ]\n",
      " [0.65 0.2  0.1  0.05 0.   0.   0.   0.   0.   0.   0.   0.  ]\n",
      " [0.65 0.2  0.1  0.05 0.   0.   0.   0.   0.   0.   0.   0.  ]\n",
      " [0.65 0.2  0.1  0.05 0.   0.   0.   0.   0.   0.   0.   0.  ]]\n",
      "Bellman one run:\n",
      " [0.47407698 0.47254913 0.47102269 0.46949766 0.46797406 0.46645188\n",
      " 0.46493112 0.46341178 0.46189387 0.46037738 0.45886231 0.45734867]\n"
     ]
    }
   ],
   "source": [
    "do_settings = {\n",
    "    'RC': 0.5,\n",
    "    'n': 12,\n",
    "    'p':[0.65,0.2,0.1]   \n",
    "}\n",
    "model = zurcher(**do_settings)\n",
    "\n",
    "print('Model grid:\\n',model.grid)\n",
    "print('Transition probabilities conditional on not replacing:\\n',model.P1)\n",
    "print('Transition probabilities conditional on replacing:\\n',model.P2)\n",
    "ev,pk, dev = model.bellman(np.zeros((model.n)),output=3)\n",
    "print('Bellman one run:\\n',ev)"
   ]
  },
  {
   "cell_type": "markdown",
   "metadata": {},
   "source": [
    "### Newton's Method\n",
    "\n",
    "Next, we need to solve the model. Rust 1987 uses Newton–Kantorovich (NK) theorem to solve the Bellman equation in the engine replacement model. To understand the NK algorithm, consider using the Newton's method to solve the single-variable equation, $f(x)=0$. The Newton method uses the iterative procedure stated below to solve the equation:\n",
    "\n",
    "$$x_{n+1} = x_{n} - \\frac{f(x_n)}{f'(x_n)}$$\n",
    "\n",
    "### 4. Use the Newton's Method to solve the equation below. Fill in the Newton step. Try to vary the starting value and see if the solution changes.\n",
    "\n",
    "\n",
    "$$f(x) = 3x^2 - exp(x)=0$$\n",
    "\n",
    "$$f'(x) = g(x) = 6x-exp(x) $$"
   ]
  },
  {
   "cell_type": "code",
   "execution_count": 3,
   "metadata": {},
   "outputs": [
    {
     "name": "stdout",
     "output_type": "stream",
     "text": [
      "Root of f(x): 3.73\n",
      "Number of iterations to archieve convergence: 6\n"
     ]
    },
    {
     "data": {
      "image/png": "[encoded data removed]",
      "text/plain": [
       "<Figure size 640x480 with 1 Axes>"
      ]
     },
     "metadata": {},
     "output_type": "display_data"
    }
   ],
   "source": [
    "f = lambda x: 3*x**2-np.exp(x)\n",
    "g = lambda x: 6*x-np.exp(x)\n",
    "\n",
    "def newton(f, g, x0, tol=10e-5, max_iter=100):\n",
    "    delta = 2000\n",
    "    it=0\n",
    "    while (max_iter>= it and tol<delta):\n",
    "        x1 = x0- f(x0)/g(x0)\n",
    "        delta = abs(x1-x0)\n",
    "        it += 1\n",
    "        x0 = x1\n",
    "    return x1, it\n",
    "\n",
    "\n",
    "x0,it = newton(f = f, g = g, x0 = 5)\n",
    "\n",
    "x = np.linspace(-2, 4, num=100)\n",
    "fx = f(x)\n",
    "plt.plot(x, fx)\n",
    "plt.axhline(y=0, color='r', linestyle='-')\n",
    "\n",
    "print('Root of f(x):', round(x0,2))\n",
    "print('Number of iterations to archieve convergence:', it)"
   ]
  },
  {
   "cell_type": "markdown",
   "metadata": {},
   "source": [
    "### Newton-Kantorovich\n",
    "\n",
    "Now consider solving the engine replacement model. To do so, we need to find the expected value function that solves the Bellman equation.\n",
    "\n",
    "$$\n",
    "EV(x,d) =  \\Gamma(EV)(x,d) \\quad\\Leftrightarrow\\quad (I - \\Gamma)(EV)(x,d)=\\mathbb{0}\n",
    "$$\n",
    "\n",
    "Similar to the Newton iteration, the **NK iteration** uses the following equation\n",
    "\n",
    "$$\n",
    "EV_{k+1} = EV_{k} - (I-\\Gamma')^{-1} (I-\\Gamma)(EV_k)\n",
    "$$\n",
    "\n",
    "- The new operator is the difference between the identity operator \\$I\\$ and Bellman operator $ \\Gamma  $  \n",
    "- $ \\mathbb{0} $ is zero function  \n",
    "- $ I-\\Gamma' $ is a Fréchet derivative of the operator $ I-\\Gamma $  "
   ]
  },
  {
   "cell_type": "markdown",
   "metadata": {},
   "source": [
    "### 5. Solve the model. In order to solve the model, you should understand:\n",
    "<li> solve_NFXP.init</li>\n",
    "<li> solve_NFXP.setup</li>\n",
    "<li> solve_NFXP.poly </li>\n",
    "<li> solve_NFXP.sa </li>\n",
    "<li> solve_NFXP.nk </li>\n",
    "</il>\n",
    "You can see how they are called below: "
   ]
  },
  {
   "cell_type": "code",
   "execution_count": 4,
   "metadata": {},
   "outputs": [
    {
     "name": "stdout",
     "output_type": "stream",
     "text": [
      "Begin contraction iterations (for the 1 time)\n",
      "Iteration 1, tol     0.4273, tol(j)/tol(j-1)        nan\n",
      "Iteration 2, tol     0.4272, tol(j)/tol(j-1)        nan\n",
      "Iteration 3, tol     0.4272, tol(j)/tol(j-1)        nan\n",
      "Iteration 4, tol     0.4271, tol(j)/tol(j-1)        nan\n",
      "Iteration 5, tol     0.4271, tol(j)/tol(j-1)        nan\n",
      "Iteration 6, tol      0.427, tol(j)/tol(j-1)        nan\n",
      "Iteration 7, tol     0.4269, tol(j)/tol(j-1)        nan\n",
      "Iteration 8, tol     0.4268, tol(j)/tol(j-1)        nan\n",
      "Iteration 9, tol     0.4266, tol(j)/tol(j-1)        nan\n",
      "Iteration 10, tol     0.4264, tol(j)/tol(j-1)        nan\n",
      "Iteration 11, tol     0.4262, tol(j)/tol(j-1)     0.9994\n",
      "SA stopped prematurely due to relative tolerance. Start NK iterations\n",
      "Elapsed time 0.0256 seconds\n",
      "Begin Newton-Kantorovich iterations (for the 1 time)\n",
      "Iteration 1, tol      13.17, tol(j)/tol(j-1)          1\n",
      "Iteration 2, tol      0.308, tol(j)/tol(j-1)    0.02339\n",
      "Iteration 3, tol    0.08956, tol(j)/tol(j-1)     0.2907\n",
      "Iteration 4, tol   0.003309, tol(j)/tol(j-1)    0.03695\n",
      "Iteration 5, tol  1.158e-05, tol(j)/tol(j-1)   0.003499\n",
      "Iteration 6, tol  2.838e-10, tol(j)/tol(j-1)  2.451e-05\n",
      "N-K converged after 6 iterations, tolerance: 2.838e-10\n",
      "Elapsed time 0.0106 seconds\n",
      "Convergence achieved!\n",
      "Elapsed time: 0.0370 (seconds)\n"
     ]
    }
   ],
   "source": [
    "algorithm = 'poly'\n",
    "do_settings_solver = {\n",
    "    'sa_min': 10,\n",
    "    'sa_max': 1000000,  \n",
    "    'printfxp': 2\n",
    "}\n",
    "\n",
    "solver = solve_NFXP(**do_settings_solver)\n",
    "model = zurcher()\n",
    "\n",
    "ev0 = np.zeros((model.n)) # Initial guess\n",
    "if algorithm == 'sa':\n",
    "    ev = solver.sa(model.bellman, ev0)\n",
    "elif algorithm == 'poly':\n",
    "    ev = solver.poly(model.bellman, ev0, beta = model.beta)\n",
    "else:\n",
    "    print('Algorithm must be \"sa\" or \"poly\"')\n"
   ]
  },
  {
   "cell_type": "markdown",
   "metadata": {},
   "source": [
    "#### 6. Now we have to estimate the model. In order to estimate the model, you should understand:\n",
    "<il type =\"a\">\n",
    "<li> zurcher.read_busdata </li>\n",
    "<li> estimate_NFXP.estimate  </li>\n",
    "<li> estimate_NFXP.ll  </li>\n",
    "</il>\n",
    "\n",
    "You can see how they are called below:"
   ]
  },
  {
   "attachments": {},
   "cell_type": "markdown",
   "metadata": {},
   "source": [
    "#### 7. Estimate the model"
   ]
  },
  {
   "cell_type": "code",
   "execution_count": 6,
   "metadata": {},
   "outputs": [
    {
     "name": "stdout",
     "output_type": "stream",
     "text": [
      "Structual estimation using busdata from Rust(1987)\n",
      "Beta        = 0.9999\n",
      "n           = 175\n",
      "Sample size = 8156\n",
      " \n",
      "\n",
      "Parameters     Estimates    s.e. \n",
      "RC             9.7689     1.2264 \n",
      "c              1.3427     0.3153 \n",
      " \n",
      "p(1)           0.1069     0.0035  \n",
      "p(2)           0.5154     0.0059  \n",
      "p(3)           0.3621     0.0055  \n",
      "p(4)           0.0143     0.0013  \n",
      "\n",
      "Log-likelihood -8599.86\n",
      "runtime (seconds) 2.0332\n",
      "The model converged: True\n"
     ]
    }
   ],
   "source": [
    "# Set up the model\n",
    "model = zurcher()\n",
    "\n",
    "# Set-up solver\n",
    "solver = solve_NFXP()\n",
    "\n",
    "# Read the data\n",
    "data = model.read_busdata(bustypes=[1,2,3,4])\n",
    "samplesize = data.shape[0]\n",
    "\n",
    "# Estimate the model\n",
    "import time\n",
    "t0 = time.time()\n",
    "theta0 = [0,0]\n",
    "\n",
    "# args for nfxp estimate\n",
    "nfxp_model, optim_res, pnames, theta_hat, Avar, converged=estimate.estimate(model, solver,data,theta0=theta0, twostep=0)\n",
    "\n",
    "t1 = time.time()\n",
    "time = t1-t0\n",
    "\n",
    "# Print the result\n",
    "print(f'Structual estimation using busdata from Rust(1987)')\n",
    "print(f'Beta        = {model.beta:.4f}')\n",
    "print(f'n           = {model.n}')\n",
    "print(f'Sample size = {samplesize}\\n \\n')\n",
    "\n",
    "print(f'Parameters     Estimates    s.e. ') \n",
    "print(f'{pnames[0]}             {theta_hat[0]:.4f}     {np.sqrt(Avar[0,0]):.4f} ')\n",
    "print(f'{pnames[1]}              {theta_hat[1]:.4f}     {np.sqrt(Avar[1,1]):.4f} \\n ')\n",
    "print(f'{pnames[2]}(1)           {theta_hat[2]:.4f}     {np.sqrt(Avar[2,2]):.4f}  ')\n",
    "print(f'{pnames[2]}(2)           {theta_hat[3]:.4f}     {np.sqrt(Avar[3,3]):.4f}  ')\n",
    "print(f'{pnames[2]}(3)           {theta_hat[4]:.4f}     {np.sqrt(Avar[4,4]):.4f}  ')\n",
    "print(f'{pnames[2]}(4)           {theta_hat[5]:.4f}     {np.sqrt(Avar[5,5]):.4f}  \\n')\n",
    "\n",
    "\n",
    "print(f'Log-likelihood {-optim_res.fun*samplesize:.2f}') \n",
    "print(f'runtime (seconds) {time:.4f}')\n",
    "print(f'The model converged: {converged}')"
   ]
  },
  {
   "cell_type": "code",
   "execution_count": 10,
   "metadata": {},
   "outputs": [
    {
     "name": "stdout",
     "output_type": "stream",
     "text": [
      "        d    x  dx1\n",
      "1     0.0    2    1\n",
      "2     0.0    3    1\n",
      "3     0.0    5    2\n",
      "4     0.0    7    2\n",
      "5     0.0    9    2\n",
      "...   ...  ...  ...\n",
      "8255  0.0  133    0\n",
      "8256  0.0  134    1\n",
      "8257  0.0  135    1\n",
      "8258  0.0  136    1\n",
      "8259  0.0  136    0\n",
      "\n",
      "[8156 rows x 3 columns]\n"
     ]
    }
   ],
   "source": [
    "print(data)"
   ]
  },
  {
   "cell_type": "markdown",
   "metadata": {},
   "source": [
    "#### 8. Try using line_profiler in python. This gives you a lot of information about the performance of your code"
   ]
  },
  {
   "cell_type": "code",
   "execution_count": 7,
   "metadata": {},
   "outputs": [
    {
     "name": "stdout",
     "output_type": "stream",
     "text": [
      "Timer unit: 1e-09 s\n",
      "\n",
      "Total time: 10.3472 s\n",
      "File: /Users/jvander/Documents/Dynamic-Programming/Exercises/Discrete/estimate_NFXP.py\n",
      "Function: estimate at line 9\n",
      "\n",
      "Line #      Hits         Time  Per Hit   % Time  Line Contents\n",
      "==============================================================\n",
      "     9                                           def estimate(model,solver,data,theta0=[0,0],twostep=0):\n",
      "    10                                               \"\"\"\" Estimate model using NFXP\"\"\"\n",
      "    11                                               global ev\n",
      "    12         1    2615000.0    3e+06      0.0      ev = np.zeros((model.n)) \n",
      "    13                                               \n",
      "    14         1    1005000.0    1e+06      0.0      samplesize = data.shape[0]\n",
      "    15                                               \n",
      "    16                                               # STEP 1: Find p non-parametrically\n",
      "    17         1   14702000.0    1e+07      0.1      tabulate = data.dx1.value_counts() # Count number of observations for each dx1\n",
      "    18         5    2055000.0 411000.0      0.0      p = [tabulate[i]/sum(tabulate) if i < len(tabulate) else 0 for i in range(len(model.p))]\n",
      "    19                                           \n",
      "    20                                               # STEP 2: Estimate structual parameters\n",
      "    21         1     420000.0 420000.0      0.0      model.p[:] = p # Use first step estimates as starting values for p\n",
      "    22                                               \n",
      "    23                                               # Estimate RC and C\n",
      "    24         1       1000.0   1000.0      0.0      pnames = ['RC','c']\n",
      "    25                                               \n",
      "    26                                               # Call BHHH optimizer\n",
      "    27         1 7269639000.0    7e+09     70.3      res = optimize.minimize(ll,theta0,args = (model, solver, data, pnames), method = 'trust-ncg',jac = grad, hess = hes, tol=1e-8)\n",
      "    28                                               # Update parameters\n",
      "    29         1      17000.0  17000.0      0.0      model = updatepar(model,pnames,res.x)\n",
      "    30                                               \n",
      "    31                                               # Estimate RC, c and p\n",
      "    32         1          0.0      0.0      0.0      if twostep == 0:\n",
      "    33         1          0.0      0.0      0.0          pnames = ['RC','c','p']\n",
      "    34         1       3000.0   3000.0      0.0          theta0 = [model.RC, model.c] + model.p.tolist() # Starting values\n",
      "    35                                                   # Call BHHH optimizer\n",
      "    36         1 3035551000.0    3e+09     29.3          res = optimize.minimize(ll,theta0, args = (model,solver,data, pnames), method = 'trust-ncg',jac = grad, hess = hes, tol = 1e-8)\n",
      "    37                                           \n",
      "    38                                                   # Update parameters\n",
      "    39         1      18000.0  18000.0      0.0          model=updatepar(model,pnames,res.x)\n",
      "    40                                           \n",
      "    41                                               # Converged: \"trust-ncg tends to be very conservative about convergence, and will often return status 2 even when the solution is good.\"\n",
      "    42         1       3000.0   3000.0      0.0      converged   =   (res.status == 2 or res.status ==0)\n",
      "    43                                           \n",
      "    44                                               # Compute Variance-Covaiance matrix\n",
      "    45         1   21175000.0    2e+07      0.2      h = hes(res.x, model, solver,data, pnames) # Hessian\n",
      "    46         1      31000.0  31000.0      0.0      Avar = np.linalg.inv(h*samplesize) # Variance-Covariance matrix from information matrix equality\n",
      "    47                                           \n",
      "    48         1       3000.0   3000.0      0.0      theta_hat = res.x # unpack estimates\n",
      "    49                                               \n",
      "    50         1       3000.0   3000.0      0.0      return model, res, pnames, theta_hat, Avar, converged\n",
      "\n",
      "Total time: 9.91572 s\n",
      "File: /Users/jvander/Documents/Dynamic-Programming/Exercises/Discrete/estimate_NFXP.py\n",
      "Function: ll at line 52\n",
      "\n",
      "Line #      Hits         Time  Per Hit   % Time  Line Contents\n",
      "==============================================================\n",
      "    52                                           def ll(theta, model, solver,data, pnames, out=1, no_guess = False): # out=1 solve optimization\n",
      "    53                                               \"\"\" Compute log-likelihood function \"\"\"\n",
      "    54                                               global ev # Use global variable to store value function to use as starting value for next iteration\n",
      "    55                                               \n",
      "    56                                               #Unpack and convert to numpy array\n",
      "    57       110   59629000.0 542081.8      0.6      x = np.array(data.x - 1) # x is the index of the observed state: We subtract 1 because python starts counting at 0\n",
      "    58       110    8363000.0  76027.3      0.1      d = np.array(data.d) # d is the observed decision\n",
      "    59       110    6804000.0  61854.5      0.1      dx1 = np.array(data.dx1) # dx1 is observed change in x \n",
      "    60                                           \n",
      "    61       110      77000.0    700.0      0.0      if no_guess == True: #Set ev to zero instead of using global variable\n",
      "    62                                                   ev = np.zeros((model.n))\n",
      "    63                                               \n",
      "    64                                               # Update values\n",
      "    65       110    1118000.0  10163.6      0.0      model=updatepar(model,pnames,theta)\n",
      "    66       110    1174000.0  10672.7      0.0      model.p = np.abs(model.p)    # helps BHHH which is run as unconstrained optimization\n",
      "    67       110   58884000.0 535309.1      0.6      model.create_grid() # Update grid\n",
      "    68       110      65000.0    590.9      0.0      ev0 = ev # Use previous value function as starting value\n",
      "    69                                           \n",
      "    70                                               # Solve the model\n",
      "    71       110 9750829000.0    9e+07     98.3      ev, pk, dev = solver.poly(model.bellman, V0=ev0 ,beta=model.beta, output=3)\n",
      "    72                                           \n",
      "    73                                               # Evaluate likelihood function\n",
      "    74       110    1993000.0  18118.2      0.0      lik_pr = pk[x] # Get probability of keeping given observed state    \n",
      "    75       110   10126000.0  92054.5      0.1      choice_prob = lik_pr * (1 - d) + (1-lik_pr) * d # get probability of making observed choice\n",
      "    76       110    7326000.0  66600.0      0.1      log_lik = np.log(choice_prob)  # Compute log-likelihood-contributions\n",
      "    77                                               \n",
      "    78                                               # add on log like for mileage process\n",
      "    79       110     131000.0   1190.9      0.0      if theta.size>2: # theta > 2 if there are parameters for p\n",
      "    80        31    1937000.0  62483.9      0.0          p = np.append(model.p,1-np.sum(model.p)) # Add residual probability to p\n",
      "    81        31     274000.0   8838.7      0.0          if any(p<=0):\n",
      "    82         5     165000.0  33000.0      0.0              log_lik -= 100000*p[dx1] # Penalize if p is negative\n",
      "    83                                                   else:\n",
      "    84        26    3042000.0 117000.0      0.0              log_lik += np.log(p[dx1]) # Add log-likelihood contribution\n",
      "    85                                                   \n",
      "    86                                               else:\n",
      "    87        79      39000.0    493.7      0.0          p = np.nan\n",
      "    88                                           \n",
      "    89                                           \n",
      "    90       110      72000.0    654.5      0.0      if out == 1:\n",
      "    91                                                   # Objective function (negative mean log likleihood)\n",
      "    92        55    3514000.0  63890.9      0.0          return np.mean(-log_lik)\n",
      "    93                                           \n",
      "    94        55     156000.0   2836.4      0.0      return model,lik_pr, pk, ev, dev, d,x,dx1"
     ]
    }
   ],
   "source": [
    "%lprun -f estimate.ll  -f estimate.estimate estimate.estimate(model, solver,data,theta0=theta0, twostep=0)"
   ]
  },
  {
   "cell_type": "code",
   "execution_count": 8,
   "metadata": {},
   "outputs": [
    {
     "name": "stdout",
     "output_type": "stream",
     "text": [
      "Timer unit: 1e-09 s\n",
      "\n",
      "Total time: 0.140679 s\n",
      "File: /Users/jvander/Documents/Dynamic-Programming/Exercises/Discrete/Solve_NFXP.py\n",
      "Function: poly at line 31\n",
      "\n",
      "Line #      Hits         Time  Per Hit   % Time  Line Contents\n",
      "==============================================================\n",
      "    31                                               def poly(self,bellman, V0=np.zeros(1), beta= 0.0, output=1):\n",
      "    32                                                   \"\"\"\" Solves the model using the poly-algorithm.\n",
      "    33                                                   set beta = 0.0 if you want to solve only with successive approximations.\n",
      "    34                                                   \"\"\"\n",
      "    35                                           \n",
      "    36         1       2000.0   2000.0      0.0          t0poly = time.time()  # set the starting time\n",
      "    37                                           \n",
      "    38                                                   # Loop over the maximum number of switches between contraction iterations and Newton-Kantorovich iterations\n",
      "    39         6       4000.0    666.7      0.0          for k in range(self.max_fxpiter):\n",
      "    40                                           \n",
      "    41                                                       # 1. CONTRACTION ITERATIONS (S-A)\n",
      "    42         5       3000.0    600.0      0.0              if self.printfxp>0:\n",
      "    43                                                           print(f'Begin contraction iterations (for the {k+1} time)')\n",
      "    44         5  128007000.0    3e+07     91.0              V0,iter_sa= self.sa(bellman,V0,beta)\n",
      "    45                                           \n",
      "    46                                                       # 2. NEWTON-KANTOROVICH ITERATIONS\n",
      "    47         5       1000.0    200.0      0.0              if self.printfxp>0:\n",
      "    48                                                           print(f'Begin Newton-Kantorovich iterations (for the {k+1} time)')\n",
      "    49         5   12654000.0    3e+06      9.0              V0,pk,dV, iter_nk = self.nk(bellman,V0)\n",
      "    50                                           \n",
      "    51                                           \n",
      "    52         5       2000.0    400.0      0.0              t1poly = time.time()\n",
      "    53         5       3000.0    600.0      0.0              if iter_nk.converged=='true':\n",
      "    54         5       1000.0    200.0      0.0                  if self.printfxp>0:\n",
      "    55                                                               print(f'Convergence achieved!')\n",
      "    56                                                               print(f'Elapsed time: {(t1poly-t0poly):.4f} (seconds)')\n",
      "    57                                                               break \n",
      "    58                                                       else:\n",
      "    59                                                           if k >= self.max_fxpiter:\n",
      "    60                                                               print(f'No convergence! Maximum number of iterations exceeded without convergence!')\n",
      "    61                                                               break\n",
      "    62         1          0.0      0.0      0.0          V = V0\n",
      "    63         1          0.0      0.0      0.0          if output==1:            \n",
      "    64         1       2000.0   2000.0      0.0              return V\n",
      "    65                                                   if output==2:            \n",
      "    66                                                       return V, pk\n",
      "    67                                                   if output==3:            \n",
      "    68                                                       return V, pk, dV\n",
      "    69                                                   if output==5:            \n",
      "    70                                                       return V, pk, dV, iter_sa, iter_nk\n",
      "    71                                                   else:\n",
      "    72                                                       print('solve_NFXP.poly: output must be 1,2,3 or 5')\n",
      "\n",
      "Total time: 0.012573 s\n",
      "File: /Users/jvander/Documents/Dynamic-Programming/Exercises/Discrete/Solve_NFXP.py\n",
      "Function: nk at line 117\n",
      "\n",
      "Line #      Hits         Time  Per Hit   % Time  Line Contents\n",
      "==============================================================\n",
      "   117                                               def nk(self,bellman, V0):\n",
      "   118                                                   \"\"\"\"Solves the model using the Newton-Kantorovich steps\"\"\"\n",
      "   119                                                   #Empty class to store the iteration output\n",
      "   120         5      80000.0  16000.0      0.6          class iteration: pass\n",
      "   121         5       2000.0    400.0      0.0          t0 = time.time()\n",
      "   122         5      15000.0   3000.0      0.1          iteration.tol =  np.nan+np.zeros((self.pi_max))\n",
      "   123         5       9000.0   1800.0      0.1          iteration.rtol = np.nan+np.zeros((self.pi_max))\n",
      "   124         5          0.0      0.0      0.0          iteration.converged = 'false'\n",
      "   125                                                   # Get the state space size\n",
      "   126         5       3000.0    600.0      0.0          m = V0.size\n",
      "   127                                                   # Loop over the maximum number of Newton-Kantorovich steps\n",
      "   128        10       8000.0    800.0      0.1          for i in range(self.pi_max):\n",
      "   129                                           \n",
      "   130                                                       # NK-step\n",
      "   131        10    3199000.0 319900.0     25.4              V1, pk, dV = bellman(V0,output=3) # Get derivative of bellman operator\n",
      "   132        10     321000.0  32100.0      2.6              F = np.eye(m)-dV # Compute frechet derivative\n",
      "   133        10    8114000.0 811400.0     64.5              V = V0 - np.linalg.inv(F) @ (V0 - V1)  # Do N-K step\n",
      "   134                                                       \n",
      "   135                                                       # do additional SA iteration for stability and accurate measure of error bound\n",
      "   136        10     460000.0  46000.0      3.7              V0 = bellman(V,output=1)\n",
      "   137                                           \n",
      "   138                                                       # Tolerance\n",
      "   139        10     140000.0  14000.0      1.1              iteration.tol[i]=max(abs(V-V0))\n",
      "   140        10      15000.0   1500.0      0.1              iteration.rtol[i] = iteration.tol[i]/(iteration.tol[max(i-1,0)] + 1.0e-15)      \n",
      "   141                                           \n",
      "   142                                                       #Adjust \n",
      "   143        10     130000.0  13000.0      1.0              adj  = np.ceil(np.log10(abs(max(V0))))\n",
      "   144        10       7000.0    700.0      0.1              ltol = self.pi_tol*10**adj  # Adjust final tolerance\n",
      "   145                                           \n",
      "   146        10       6000.0    600.0      0.0              if iteration.tol[i] < ltol:\n",
      "   147                                                           #Convergence achieved\n",
      "   148         5      28000.0   5600.0      0.2                  iteration.message = \"N-K converged after {} iterations, tolerance: {:.4g}\".format(i+1,iteration.tol[i])\n",
      "   149         5       2000.0    400.0      0.0                  iteration.converged = 'true'\n",
      "   150         5       1000.0    200.0      0.0                  break\n",
      "   151                                                   # Store the iteration output\n",
      "   152         5          0.0      0.0      0.0          iteration.n = i+1\n",
      "   153         5       6000.0   1200.0      0.0          iteration.tol = iteration.tol[0:i+1]\n",
      "   154         5       3000.0    600.0      0.0          iteration.rtol = iteration.rtol[0:i+1]\n",
      "   155         5       3000.0    600.0      0.0          t1 = time.time()\n",
      "   156         5       2000.0    400.0      0.0          iteration.time = t1-t0 \n",
      "   157                                           \n",
      "   158         5       8000.0   1600.0      0.1          self.print_output(iteration)\n",
      "   159                                           \n",
      "   160         5      11000.0   2200.0      0.1          return V, pk, dV, iteration"
     ]
    }
   ],
   "source": [
    "ev0 = np.zeros((model.n)) # Initial guess\n",
    "%lprun -f solve_NFXP.nk -f solve_NFXP.poly solve_NFXP.poly(solver,model.bellman, ev0, beta = model.beta)"
   ]
  },
  {
   "attachments": {},
   "cell_type": "markdown",
   "metadata": {},
   "source": [
    "#### 9. In the code, we are using analytical hessian and gradient. Let us now try to use numerical equivalents. \n"
   ]
  },
  {
   "cell_type": "markdown",
   "metadata": {},
   "source": [
    "a) Now try changing the optimizer options, and turn the use of the non-numerical Hessian off . What happens?\n",
    "\n",
    "b) Now also try it with the analytical gradient off, what happens?"
   ]
  },
  {
   "cell_type": "code",
   "execution_count": 9,
   "metadata": {},
   "outputs": [
    {
     "name": "stdout",
     "output_type": "stream",
     "text": [
      "BHHH:\n",
      "Time is 5.9588 seconds. The model converges: True\n",
      "Time is 5.4085 seconds. The model converges: True\n",
      "Time is 4.8234 seconds. The model converges: True\n",
      "Time is 4.8601 seconds. The model converges: True\n",
      "Time is 5.0020 seconds. The model converges: True\n",
      "Time is 5.1342 seconds. The model converges: True\n",
      "Time is 4.9835 seconds. The model converges: True\n",
      "Time is 5.0264 seconds. The model converges: True\n",
      "5.03 s ± 181 ms per loop (mean ± std. dev. of 7 runs, 1 loop each)\n",
      "\n",
      "Hessian is off:\n",
      "Time is 11.3065 seconds. The model converges: True\n",
      "Time is 9.5301 seconds. The model converges: True\n",
      "Time is 10.9046 seconds. The model converges: True\n",
      "Time is 11.4470 seconds. The model converges: True\n",
      "Time is 9.4365 seconds. The model converges: True\n",
      "Time is 9.6362 seconds. The model converges: True\n",
      "Time is 9.6921 seconds. The model converges: True\n",
      "Time is 9.9190 seconds. The model converges: True\n",
      "10.1 s ± 721 ms per loop (mean ± std. dev. of 7 runs, 1 loop each)\n",
      "\n",
      "Hessian and gradient are off:\n",
      "Time is 13.5654 seconds. The model converges: True\n",
      "Time is 12.8230 seconds. The model converges: True\n",
      "Time is 14.3189 seconds. The model converges: True\n",
      "Time is 12.4449 seconds. The model converges: True\n",
      "Time is 18.8371 seconds. The model converges: True\n",
      "Time is 34.6228 seconds. The model converges: True\n",
      "Time is 25.4099 seconds. The model converges: True\n",
      "Time is 34.1152 seconds. The model converges: True\n",
      "21.8 s ± 8.96 s per loop (mean ± std. dev. of 7 runs, 1 loop each)\n"
     ]
    }
   ],
   "source": [
    "import alternative_specifications_ex7 as a_s_ex7\n",
    "import warnings\n",
    "# Turn off warnings: We turn of warnings as a result of overflow. This occurs as the optimizer will sometimes guess on non-feasible transition probabilities. \n",
    "warnings.filterwarnings(\"ignore\", category=RuntimeWarning)\n",
    "\n",
    "model = zurcher()\n",
    "solver = solve_NFXP()\n",
    "\n",
    "#Ordinaty\n",
    "print('BHHH:')\n",
    "%timeit nfxp_results = a_s_ex7.estimate(model, solver,data,theta0=theta0, twostep=0,est_type=0)\n",
    "\n",
    "\n",
    "# Hessian off\n",
    "print('')\n",
    "print('Hessian is off:')\n",
    "%timeit nfxp_result = a_s_ex7.estimate(model, solver,data, twostep=0,est_type=1)\n",
    "\n",
    "\n",
    "# #Hessian and gradient ofF \n",
    "print('')\n",
    "print('Hessian and gradient are off:')\n",
    "%timeit nfxp_results = a_s_ex7.estimate(model, solver,data,theta0=theta0, twostep=0,est_type=2)\n"
   ]
  },
  {
   "cell_type": "markdown",
   "metadata": {},
   "source": [
    "#### 9. Try estimate the model for different values of $\\beta$. \n",
    "\n",
    "(a) Why can we not estimate $\\beta$?\n",
    "- The NFXP algorithm cannot seperately identify $\\beta$ as increasing $\\beta$ proportionally reduces both cost parameters, $\\textit{c}$ and $\\textit{RC}$, meaning different values of $\\beta$ can explain the same observed choices. Moreover, the Bellman equation is only identofied up to a scale, making it impossible to disentangle the effect of time discounting vs cost. \n",
    "\n",
    "(b) When estimating with different $\\beta$, do the changes in the estimates of c and/or RC make intuitively sense?\n",
    "- When $\\beta$ is low, the estimated cost parameters increase, as the model explains replacement behaviour through higher cost rather than discounting \n",
    "- When $\\beta$ is high, the estimated cost parameters decrease since agents are assumed to be more patient for future costs. \n",
    "\n",
    "(c) Can you think of some data/variation, which could allow us to identify $\\beta$?\n",
    "- Introducing credit constraints \n",
    "- Differing interest rates "
   ]
  },
  {
   "cell_type": "code",
   "execution_count": 11,
   "metadata": {},
   "outputs": [
    {
     "name": "stdout",
     "output_type": "stream",
     "text": [
      "beta     RC     C       log_lik\n",
      "0.5000 7.3664 18.5137 [-8605.91245211] \n",
      "0.6666 7.4239 12.6984 [-8605.61914601] \n",
      "0.8333 7.6018 6.9196 [-8604.77884432] \n",
      "0.9999 9.7689 1.3427 [-8599.85577546] \n"
     ]
    }
   ],
   "source": [
    "# VARY BETA: \n",
    "Nbeta = 4\n",
    "beta = np.linspace(0.5,0.9999,Nbeta)\n",
    "log_lik = np.nan + np.zeros((Nbeta,1))\n",
    "theta_hats =  np.nan + np.zeros((Nbeta,2))\n",
    "\n",
    "data = model.read_busdata(bustypes=[1,2,3,4])\n",
    "samplesize = data.shape[0]\n",
    "\n",
    "print(f'beta     RC     C       log_lik')\n",
    "for i in range(Nbeta):\n",
    "    \n",
    "    # Set up the model\n",
    "    do_settings = {\n",
    "    'beta': beta[i]\n",
    "    }\n",
    "    model = zurcher(**do_settings)\n",
    "\n",
    "\n",
    "    # Set-up solver\n",
    "    solver = solve_NFXP()\n",
    "\n",
    "    # Estimate the model\n",
    "    theta0 = [0,0]\n",
    "    nfxp_model, optim_res, pnames, theta_hat, Avar, converged=estimate.estimate(model, solver,data,theta0=theta0, twostep=0)\n",
    "\n",
    "    \n",
    "    theta_hats[i,0] = theta_hat[0]\n",
    "    theta_hats[i,1] = theta_hat[1]\n",
    "    log_lik[i]=-optim_res.fun*samplesize\n",
    "    print(f'{beta[i]:.4f} {theta_hats[i,0]:.4f} {theta_hats[i,1]:.4f} {log_lik[i]} ')\n",
    "\n"
   ]
  },
  {
   "cell_type": "markdown",
   "metadata": {},
   "source": [
    "#### 10. We use the latest EV guess to start the solve-procedure even though we change $\\theta$ from one likelihood iteration to another. Why do you think we do that? \n",
    "- The Bellman operator is a contraction mapping, meaning that iterating from an already close guess, will converge much faster than restarting from an arbitrary initial condition. Resetting the solver to zero requires the solver to spend extra iterations on things, it has already been through \n",
    "- DP mpdels are highly recursive and value functions update slowly. Using the most recent value functions provides a smooth transitions in optimization rather than introducing artificial instability\n",
    "- Each likelihood iteration requires solving the Bellman equation many times. If one reset EV each time, we may throw away useful information aquired in the previous step, which only increase the computational burden. \n",
    "\n",
    "(a) What if we started over with EV=0 each iteration? Try that and see what happens with the parameters and the numerical performance.\n",
    "- The results are identical, but the time to get there is very different. \n",
    "- We see that the estimaton process is significantly slower when resetting each time. This is because the solver must recompute the entire value function from scrath at each iteration. "
   ]
  },
  {
   "cell_type": "code",
   "execution_count": 12,
   "metadata": {},
   "outputs": [
    {
     "name": "stdout",
     "output_type": "stream",
     "text": [
      "Same EV\n",
      "The slowest run took 6.43 times longer than the fastest. This could mean that an intermediate result is being cached.\n",
      "12.1 s ± 6.03 s per loop (mean ± std. dev. of 7 runs, 1 loop each)\n",
      "EV=0\n",
      "The slowest run took 4.51 times longer than the fastest. This could mean that an intermediate result is being cached.\n",
      "10.3 s ± 6.46 s per loop (mean ± std. dev. of 7 runs, 1 loop each)\n",
      "\n",
      "                 Same EV       EV=0\n",
      "RC               9.7689       9.7689\n",
      "c                1.3427       1.3427\n"
     ]
    }
   ],
   "source": [
    "import alternative_specifications_ex9 as a_s_ex9 \n",
    "\n",
    "# Ordinary\n",
    "print('Same EV')\n",
    "%timeit a_s_ex9.estimate(model, solver,data,0)\n",
    "nfxp_results_ord, theta_hat_ord = a_s_ex9.estimate(model, solver,data,0)\n",
    "\n",
    "\n",
    "# Change EV=0 in each iteration\n",
    "print('EV=0')\n",
    "%timeit a_s_ex9.estimate(model, solver,data,1)\n",
    "nfxp_results_diff, theta_hat_diff = a_s_ex9.estimate(model, solver,data,1)\n",
    "\n",
    "print('')\n",
    "print(f'                 Same EV       EV=0')\n",
    "print(f'{pnames[0]}               {theta_hat_ord[0]:.4f}       {theta_hat_diff[0]:.4f}')\n",
    "print(f'{pnames[1]}                {theta_hat_ord[1]:.4f}       {theta_hat_diff[1]:.4f}')"
   ]
  },
  {
   "attachments": {},
   "cell_type": "markdown",
   "metadata": {},
   "source": [
    "#### 11. Try setting the maximum number of miles (odometer reading) to 720(multiplied previous maximum by 1.6). Now the absorbing state is much higher. \n",
    "\n",
    "(a) If we adjust the number of grid points as well, so that we have a comparable model (multiply the number of grids by 1.6), do we get a better fit? \n",
    "- The new grid better preserves the resolution of the state space by keeping the relative structure intact, but the parameter estimates for $\\textit{RC}$ and $\\textit{c}$ remain similar. Therefore, the change does not fundamentally improve the fit but maintains consistency.\n",
    "(b) Try to lower the number of grid points to 175 again. How do the parameters change? Are the changes intuitive? \n",
    "- Lowering the number of grid points reduces the resolution of the state space and we can see that estimates for $\\textit{RC}$ and $\\textit{c}$ shifht slightly. Therefore, lowering the grid points reduces precision and negatively impacts the likelihood, as expected.\n",
    "\n",
    "(c) Optional: What if you change the max to 225 and half the number of grids (hint: what goes wrong?)?\n",
    "- Reducing state space resolution too aggressively destroys structure needed for correct estimation."
   ]
  },
  {
   "cell_type": "code",
   "execution_count": 13,
   "metadata": {},
   "outputs": [],
   "source": [
    "# Function for adjusting Grid-points\n",
    "def adjust_grid_point(maks, n):\n",
    "    # Set up the model\n",
    "    do_settings = {\n",
    "    'max': maks,\n",
    "    'n': n\n",
    "    }\n",
    "    model = zurcher(**do_settings)\n",
    "\n",
    "    # Set-up solver\n",
    "    solver = solve_NFXP()\n",
    "        \n",
    "    # Read the data\n",
    "    data = model.read_busdata(bustypes=[1,2,3,4])\n",
    "    samplesize = data.shape[0]\n",
    "\n",
    "    # Estimate the model\n",
    "    theta0 = [0,0]\n",
    "    \n",
    "    nfxp_model, result, pnames, theta, Avar, converged=estimate.estimate(model, solver,data,theta0=theta0, twostep=0)\n",
    "\n",
    "    \n",
    "    print(f'Parameters     Estimates    s.e. ') \n",
    "    print(f'{pnames[0]}             {theta[0]:.4f}     {np.sqrt(Avar[0,0]):.4f} ')\n",
    "    print(f'{pnames[1]}              {theta[1]:.4f}     {np.sqrt(Avar[1,1]):.4f} \\n ')\n",
    "    print(f'Log-likelihood now {-result.fun*samplesize:.4f}\\n \\n') \n"
   ]
  },
  {
   "cell_type": "code",
   "execution_count": 15,
   "metadata": {},
   "outputs": [
    {
     "name": "stdout",
     "output_type": "stream",
     "text": [
      "Baseline\n",
      "Parameters     Estimates    s.e. \n",
      "RC             9.7689     1.2264 \n",
      "c              1.3427     0.3153 \n",
      " \n",
      "Log-likelihood now -8599.8558\n",
      " \n",
      "\n",
      "Question (a)\n",
      "Parameters     Estimates    s.e. \n",
      "RC             9.7656     1.2381 \n",
      "c              1.3402     0.3204 \n",
      " \n",
      "Log-likelihood now -8599.8737\n",
      " \n",
      "\n",
      "Question (b)\n",
      "Parameters     Estimates    s.e. \n",
      "RC             9.7454     1.2336 \n",
      "c              2.1482     0.5138 \n",
      " \n",
      "Log-likelihood now -440060207.3012\n",
      " \n",
      "\n",
      "Question (c)\n"
     ]
    },
    {
     "ename": "IndexError",
     "evalue": "index 87 is out of bounds for axis 0 with size 87",
     "output_type": "error",
     "traceback": [
      "\u001b[0;31m---------------------------------------------------------------------------\u001b[0m",
      "\u001b[0;31mIndexError\u001b[0m                                Traceback (most recent call last)",
      "Cell \u001b[0;32mIn[15], line 15\u001b[0m\n\u001b[1;32m     13\u001b[0m \u001b[38;5;66;03m# c) max =225, n = 175/2\u001b[39;00m\n\u001b[1;32m     14\u001b[0m \u001b[38;5;28mprint\u001b[39m(\u001b[38;5;124mf\u001b[39m\u001b[38;5;124m'\u001b[39m\u001b[38;5;124mQuestion (c)\u001b[39m\u001b[38;5;124m'\u001b[39m)\n\u001b[0;32m---> 15\u001b[0m adjust_grid_point(\u001b[38;5;28mint\u001b[39m(\u001b[38;5;241m450\u001b[39m\u001b[38;5;241m/\u001b[39m\u001b[38;5;241m2\u001b[39m),\u001b[38;5;28mint\u001b[39m(\u001b[38;5;241m175\u001b[39m\u001b[38;5;241m/\u001b[39m\u001b[38;5;241m2\u001b[39m))\n",
      "Cell \u001b[0;32mIn[13], line 20\u001b[0m, in \u001b[0;36madjust_grid_point\u001b[0;34m(maks, n)\u001b[0m\n\u001b[1;32m     17\u001b[0m \u001b[38;5;66;03m# Estimate the model\u001b[39;00m\n\u001b[1;32m     18\u001b[0m theta0 \u001b[38;5;241m=\u001b[39m [\u001b[38;5;241m0\u001b[39m,\u001b[38;5;241m0\u001b[39m]\n\u001b[0;32m---> 20\u001b[0m nfxp_model, result, pnames, theta, Avar, converged\u001b[38;5;241m=\u001b[39mestimate\u001b[38;5;241m.\u001b[39mestimate(model, solver,data,theta0\u001b[38;5;241m=\u001b[39mtheta0, twostep\u001b[38;5;241m=\u001b[39m\u001b[38;5;241m0\u001b[39m)\n\u001b[1;32m     23\u001b[0m \u001b[38;5;28mprint\u001b[39m(\u001b[38;5;124mf\u001b[39m\u001b[38;5;124m'\u001b[39m\u001b[38;5;124mParameters     Estimates    s.e. \u001b[39m\u001b[38;5;124m'\u001b[39m) \n\u001b[1;32m     24\u001b[0m \u001b[38;5;28mprint\u001b[39m(\u001b[38;5;124mf\u001b[39m\u001b[38;5;124m'\u001b[39m\u001b[38;5;132;01m{\u001b[39;00mpnames[\u001b[38;5;241m0\u001b[39m]\u001b[38;5;132;01m}\u001b[39;00m\u001b[38;5;124m             \u001b[39m\u001b[38;5;132;01m{\u001b[39;00mtheta[\u001b[38;5;241m0\u001b[39m]\u001b[38;5;132;01m:\u001b[39;00m\u001b[38;5;124m.4f\u001b[39m\u001b[38;5;132;01m}\u001b[39;00m\u001b[38;5;124m     \u001b[39m\u001b[38;5;132;01m{\u001b[39;00mnp\u001b[38;5;241m.\u001b[39msqrt(Avar[\u001b[38;5;241m0\u001b[39m,\u001b[38;5;241m0\u001b[39m])\u001b[38;5;132;01m:\u001b[39;00m\u001b[38;5;124m.4f\u001b[39m\u001b[38;5;132;01m}\u001b[39;00m\u001b[38;5;124m \u001b[39m\u001b[38;5;124m'\u001b[39m)\n",
      "File \u001b[0;32m~/Documents/Dynamic-Programming/Exercises/Discrete/estimate_NFXP.py:27\u001b[0m, in \u001b[0;36mestimate\u001b[0;34m(model, solver, data, theta0, twostep)\u001b[0m\n\u001b[1;32m     24\u001b[0m pnames \u001b[38;5;241m=\u001b[39m [\u001b[38;5;124m'\u001b[39m\u001b[38;5;124mRC\u001b[39m\u001b[38;5;124m'\u001b[39m,\u001b[38;5;124m'\u001b[39m\u001b[38;5;124mc\u001b[39m\u001b[38;5;124m'\u001b[39m]\n\u001b[1;32m     26\u001b[0m \u001b[38;5;66;03m# Call BHHH optimizer\u001b[39;00m\n\u001b[0;32m---> 27\u001b[0m res \u001b[38;5;241m=\u001b[39m optimize\u001b[38;5;241m.\u001b[39mminimize(ll,theta0,args \u001b[38;5;241m=\u001b[39m (model, solver, data, pnames), method \u001b[38;5;241m=\u001b[39m \u001b[38;5;124m'\u001b[39m\u001b[38;5;124mtrust-ncg\u001b[39m\u001b[38;5;124m'\u001b[39m,jac \u001b[38;5;241m=\u001b[39m grad, hess \u001b[38;5;241m=\u001b[39m hes, tol\u001b[38;5;241m=\u001b[39m\u001b[38;5;241m1e-8\u001b[39m)\n\u001b[1;32m     28\u001b[0m \u001b[38;5;66;03m# Update parameters\u001b[39;00m\n\u001b[1;32m     29\u001b[0m model \u001b[38;5;241m=\u001b[39m updatepar(model,pnames,res\u001b[38;5;241m.\u001b[39mx)\n",
      "File \u001b[0;32m/opt/anaconda3/lib/python3.12/site-packages/scipy/optimize/_minimize.py:732\u001b[0m, in \u001b[0;36mminimize\u001b[0;34m(fun, x0, args, method, jac, hess, hessp, bounds, constraints, tol, callback, options)\u001b[0m\n\u001b[1;32m    729\u001b[0m     res \u001b[38;5;241m=\u001b[39m _minimize_dogleg(fun, x0, args, jac, hess,\n\u001b[1;32m    730\u001b[0m                            callback\u001b[38;5;241m=\u001b[39mcallback, \u001b[38;5;241m*\u001b[39m\u001b[38;5;241m*\u001b[39moptions)\n\u001b[1;32m    731\u001b[0m \u001b[38;5;28;01melif\u001b[39;00m meth \u001b[38;5;241m==\u001b[39m \u001b[38;5;124m'\u001b[39m\u001b[38;5;124mtrust-ncg\u001b[39m\u001b[38;5;124m'\u001b[39m:\n\u001b[0;32m--> 732\u001b[0m     res \u001b[38;5;241m=\u001b[39m _minimize_trust_ncg(fun, x0, args, jac, hess, hessp,\n\u001b[1;32m    733\u001b[0m                               callback\u001b[38;5;241m=\u001b[39mcallback, \u001b[38;5;241m*\u001b[39m\u001b[38;5;241m*\u001b[39moptions)\n\u001b[1;32m    734\u001b[0m \u001b[38;5;28;01melif\u001b[39;00m meth \u001b[38;5;241m==\u001b[39m \u001b[38;5;124m'\u001b[39m\u001b[38;5;124mtrust-krylov\u001b[39m\u001b[38;5;124m'\u001b[39m:\n\u001b[1;32m    735\u001b[0m     res \u001b[38;5;241m=\u001b[39m _minimize_trust_krylov(fun, x0, args, jac, hess, hessp,\n\u001b[1;32m    736\u001b[0m                                  callback\u001b[38;5;241m=\u001b[39mcallback, \u001b[38;5;241m*\u001b[39m\u001b[38;5;241m*\u001b[39moptions)\n",
      "File \u001b[0;32m/opt/anaconda3/lib/python3.12/site-packages/scipy/optimize/_trustregion_ncg.py:37\u001b[0m, in \u001b[0;36m_minimize_trust_ncg\u001b[0;34m(fun, x0, args, jac, hess, hessp, **trust_region_options)\u001b[0m\n\u001b[1;32m     34\u001b[0m \u001b[38;5;28;01mif\u001b[39;00m hess \u001b[38;5;129;01mis\u001b[39;00m \u001b[38;5;28;01mNone\u001b[39;00m \u001b[38;5;129;01mand\u001b[39;00m hessp \u001b[38;5;129;01mis\u001b[39;00m \u001b[38;5;28;01mNone\u001b[39;00m:\n\u001b[1;32m     35\u001b[0m     \u001b[38;5;28;01mraise\u001b[39;00m \u001b[38;5;167;01mValueError\u001b[39;00m(\u001b[38;5;124m'\u001b[39m\u001b[38;5;124mEither the Hessian or the Hessian-vector product \u001b[39m\u001b[38;5;124m'\u001b[39m\n\u001b[1;32m     36\u001b[0m                      \u001b[38;5;124m'\u001b[39m\u001b[38;5;124mis required for Newton-CG trust-region minimization\u001b[39m\u001b[38;5;124m'\u001b[39m)\n\u001b[0;32m---> 37\u001b[0m \u001b[38;5;28;01mreturn\u001b[39;00m _minimize_trust_region(fun, x0, args\u001b[38;5;241m=\u001b[39margs, jac\u001b[38;5;241m=\u001b[39mjac, hess\u001b[38;5;241m=\u001b[39mhess,\n\u001b[1;32m     38\u001b[0m                               hessp\u001b[38;5;241m=\u001b[39mhessp, subproblem\u001b[38;5;241m=\u001b[39mCGSteihaugSubproblem,\n\u001b[1;32m     39\u001b[0m                               \u001b[38;5;241m*\u001b[39m\u001b[38;5;241m*\u001b[39mtrust_region_options)\n",
      "File \u001b[0;32m/opt/anaconda3/lib/python3.12/site-packages/scipy/optimize/_trustregion.py:175\u001b[0m, in \u001b[0;36m_minimize_trust_region\u001b[0;34m(fun, x0, args, jac, hess, hessp, subproblem, initial_trust_radius, max_trust_radius, eta, gtol, maxiter, disp, return_all, callback, inexact, **unknown_options)\u001b[0m\n\u001b[1;32m    171\u001b[0m x0 \u001b[38;5;241m=\u001b[39m np\u001b[38;5;241m.\u001b[39masarray(x0)\u001b[38;5;241m.\u001b[39mflatten()\n\u001b[1;32m    173\u001b[0m \u001b[38;5;66;03m# A ScalarFunction representing the problem. This caches calls to fun, jac,\u001b[39;00m\n\u001b[1;32m    174\u001b[0m \u001b[38;5;66;03m# hess.\u001b[39;00m\n\u001b[0;32m--> 175\u001b[0m sf \u001b[38;5;241m=\u001b[39m _prepare_scalar_function(fun, x0, jac\u001b[38;5;241m=\u001b[39mjac, hess\u001b[38;5;241m=\u001b[39mhess, args\u001b[38;5;241m=\u001b[39margs)\n\u001b[1;32m    176\u001b[0m fun \u001b[38;5;241m=\u001b[39m sf\u001b[38;5;241m.\u001b[39mfun\n\u001b[1;32m    177\u001b[0m jac \u001b[38;5;241m=\u001b[39m sf\u001b[38;5;241m.\u001b[39mgrad\n",
      "File \u001b[0;32m/opt/anaconda3/lib/python3.12/site-packages/scipy/optimize/_optimize.py:288\u001b[0m, in \u001b[0;36m_prepare_scalar_function\u001b[0;34m(fun, x0, jac, args, bounds, epsilon, finite_diff_rel_step, hess)\u001b[0m\n\u001b[1;32m    284\u001b[0m     bounds \u001b[38;5;241m=\u001b[39m (\u001b[38;5;241m-\u001b[39mnp\u001b[38;5;241m.\u001b[39minf, np\u001b[38;5;241m.\u001b[39minf)\n\u001b[1;32m    286\u001b[0m \u001b[38;5;66;03m# ScalarFunction caches. Reuse of fun(x) during grad\u001b[39;00m\n\u001b[1;32m    287\u001b[0m \u001b[38;5;66;03m# calculation reduces overall function evaluations.\u001b[39;00m\n\u001b[0;32m--> 288\u001b[0m sf \u001b[38;5;241m=\u001b[39m ScalarFunction(fun, x0, args, grad, hess,\n\u001b[1;32m    289\u001b[0m                     finite_diff_rel_step, bounds, epsilon\u001b[38;5;241m=\u001b[39mepsilon)\n\u001b[1;32m    291\u001b[0m \u001b[38;5;28;01mreturn\u001b[39;00m sf\n",
      "File \u001b[0;32m/opt/anaconda3/lib/python3.12/site-packages/scipy/optimize/_differentiable_functions.py:166\u001b[0m, in \u001b[0;36mScalarFunction.__init__\u001b[0;34m(self, fun, x0, args, grad, hess, finite_diff_rel_step, finite_diff_bounds, epsilon)\u001b[0m\n\u001b[1;32m    163\u001b[0m     \u001b[38;5;28mself\u001b[39m\u001b[38;5;241m.\u001b[39mf \u001b[38;5;241m=\u001b[39m fun_wrapped(\u001b[38;5;28mself\u001b[39m\u001b[38;5;241m.\u001b[39mx)\n\u001b[1;32m    165\u001b[0m \u001b[38;5;28mself\u001b[39m\u001b[38;5;241m.\u001b[39m_update_fun_impl \u001b[38;5;241m=\u001b[39m update_fun\n\u001b[0;32m--> 166\u001b[0m \u001b[38;5;28mself\u001b[39m\u001b[38;5;241m.\u001b[39m_update_fun()\n\u001b[1;32m    168\u001b[0m \u001b[38;5;66;03m# Gradient evaluation\u001b[39;00m\n\u001b[1;32m    169\u001b[0m \u001b[38;5;28;01mif\u001b[39;00m \u001b[38;5;28mcallable\u001b[39m(grad):\n",
      "File \u001b[0;32m/opt/anaconda3/lib/python3.12/site-packages/scipy/optimize/_differentiable_functions.py:262\u001b[0m, in \u001b[0;36mScalarFunction._update_fun\u001b[0;34m(self)\u001b[0m\n\u001b[1;32m    260\u001b[0m \u001b[38;5;28;01mdef\u001b[39;00m \u001b[38;5;21m_update_fun\u001b[39m(\u001b[38;5;28mself\u001b[39m):\n\u001b[1;32m    261\u001b[0m     \u001b[38;5;28;01mif\u001b[39;00m \u001b[38;5;129;01mnot\u001b[39;00m \u001b[38;5;28mself\u001b[39m\u001b[38;5;241m.\u001b[39mf_updated:\n\u001b[0;32m--> 262\u001b[0m         \u001b[38;5;28mself\u001b[39m\u001b[38;5;241m.\u001b[39m_update_fun_impl()\n\u001b[1;32m    263\u001b[0m         \u001b[38;5;28mself\u001b[39m\u001b[38;5;241m.\u001b[39mf_updated \u001b[38;5;241m=\u001b[39m \u001b[38;5;28;01mTrue\u001b[39;00m\n",
      "File \u001b[0;32m/opt/anaconda3/lib/python3.12/site-packages/scipy/optimize/_differentiable_functions.py:163\u001b[0m, in \u001b[0;36mScalarFunction.__init__.<locals>.update_fun\u001b[0;34m()\u001b[0m\n\u001b[1;32m    162\u001b[0m \u001b[38;5;28;01mdef\u001b[39;00m \u001b[38;5;21mupdate_fun\u001b[39m():\n\u001b[0;32m--> 163\u001b[0m     \u001b[38;5;28mself\u001b[39m\u001b[38;5;241m.\u001b[39mf \u001b[38;5;241m=\u001b[39m fun_wrapped(\u001b[38;5;28mself\u001b[39m\u001b[38;5;241m.\u001b[39mx)\n",
      "File \u001b[0;32m/opt/anaconda3/lib/python3.12/site-packages/scipy/optimize/_differentiable_functions.py:145\u001b[0m, in \u001b[0;36mScalarFunction.__init__.<locals>.fun_wrapped\u001b[0;34m(x)\u001b[0m\n\u001b[1;32m    141\u001b[0m \u001b[38;5;28mself\u001b[39m\u001b[38;5;241m.\u001b[39mnfev \u001b[38;5;241m+\u001b[39m\u001b[38;5;241m=\u001b[39m \u001b[38;5;241m1\u001b[39m\n\u001b[1;32m    142\u001b[0m \u001b[38;5;66;03m# Send a copy because the user may overwrite it.\u001b[39;00m\n\u001b[1;32m    143\u001b[0m \u001b[38;5;66;03m# Overwriting results in undefined behaviour because\u001b[39;00m\n\u001b[1;32m    144\u001b[0m \u001b[38;5;66;03m# fun(self.x) will change self.x, with the two no longer linked.\u001b[39;00m\n\u001b[0;32m--> 145\u001b[0m fx \u001b[38;5;241m=\u001b[39m fun(np\u001b[38;5;241m.\u001b[39mcopy(x), \u001b[38;5;241m*\u001b[39margs)\n\u001b[1;32m    146\u001b[0m \u001b[38;5;66;03m# Make sure the function returns a true scalar\u001b[39;00m\n\u001b[1;32m    147\u001b[0m \u001b[38;5;28;01mif\u001b[39;00m \u001b[38;5;129;01mnot\u001b[39;00m np\u001b[38;5;241m.\u001b[39misscalar(fx):\n",
      "File \u001b[0;32m~/Documents/Dynamic-Programming/Exercises/Discrete/estimate_NFXP.py:74\u001b[0m, in \u001b[0;36mll\u001b[0;34m(theta, model, solver, data, pnames, out, no_guess)\u001b[0m\n\u001b[1;32m     71\u001b[0m ev, pk, dev \u001b[38;5;241m=\u001b[39m solver\u001b[38;5;241m.\u001b[39mpoly(model\u001b[38;5;241m.\u001b[39mbellman, V0\u001b[38;5;241m=\u001b[39mev0 ,beta\u001b[38;5;241m=\u001b[39mmodel\u001b[38;5;241m.\u001b[39mbeta, output\u001b[38;5;241m=\u001b[39m\u001b[38;5;241m3\u001b[39m)\n\u001b[1;32m     73\u001b[0m \u001b[38;5;66;03m# Evaluate likelihood function\u001b[39;00m\n\u001b[0;32m---> 74\u001b[0m lik_pr \u001b[38;5;241m=\u001b[39m pk[x] \u001b[38;5;66;03m# Get probability of keeping given observed state    \u001b[39;00m\n\u001b[1;32m     75\u001b[0m choice_prob \u001b[38;5;241m=\u001b[39m lik_pr \u001b[38;5;241m*\u001b[39m (\u001b[38;5;241m1\u001b[39m \u001b[38;5;241m-\u001b[39m d) \u001b[38;5;241m+\u001b[39m (\u001b[38;5;241m1\u001b[39m\u001b[38;5;241m-\u001b[39mlik_pr) \u001b[38;5;241m*\u001b[39m d \u001b[38;5;66;03m# get probability of making observed choice\u001b[39;00m\n\u001b[1;32m     76\u001b[0m log_lik \u001b[38;5;241m=\u001b[39m np\u001b[38;5;241m.\u001b[39mlog(choice_prob)  \u001b[38;5;66;03m# Compute log-likelihood-contributions\u001b[39;00m\n",
      "\u001b[0;31mIndexError\u001b[0m: index 87 is out of bounds for axis 0 with size 87"
     ]
    }
   ],
   "source": [
    "# Baseline max = 450, n = 175\n",
    "print(f'Baseline')\n",
    "adjust_grid_point(450,175)\n",
    "\n",
    "# a)  max = 720, n = 280\n",
    "print(f'Question (a)')\n",
    "adjust_grid_point(int(450*1.6),int(175*1.6))\n",
    "\n",
    "# b) max = 720., n = 175\n",
    "print(f'Question (b)')\n",
    "adjust_grid_point(int(450*1.6),175)\n",
    "\n",
    "# c) max =225, n = 175/2\n",
    "print(f'Question (c)')\n",
    "adjust_grid_point(int(450/2),int(175/2))"
   ]
  }
 ],
 "metadata": {
  "kernelspec": {
   "display_name": "base",
   "language": "python",
   "name": "python3"
  },
  "language_info": {
   "codemirror_mode": {
    "name": "ipython",
    "version": 3
   },
   "file_extension": ".py",
   "mimetype": "text/x-python",
   "name": "python",
   "nbconvert_exporter": "python",
   "pygments_lexer": "ipython3",
   "version": "3.12.2"
  },
  "vscode": {
   "interpreter": {
    "hash": "d23f3ceec305a45481076084313530cecc6283a24046b34365f00383ab0a81b1"
   }
  }
 },
 "nbformat": 4,
 "nbformat_minor": 4
}
