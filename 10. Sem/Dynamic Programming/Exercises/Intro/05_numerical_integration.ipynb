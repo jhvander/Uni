{
 "cells": [
  {
   "cell_type": "code",
   "execution_count": 1,
   "metadata": {},
   "outputs": [],
   "source": [
    "# magics: ensures that any changes to the modules loaded below will be re-loaded automatically\n",
    "%load_ext autoreload\n",
    "%autoreload 2\n",
    "\n",
    "# load packages\n",
    "import numpy as np\n",
    "import tools"
   ]
  },
  {
   "cell_type": "markdown",
   "metadata": {},
   "source": [
    "# Exercise 5: Numerical Integration\n",
    "Consider the numerical integration problem\n",
    "$$\n",
    "\\int x^{2}dg(x),\\,\\,\\,x\\sim\\mathcal{N}(0,1)\n",
    "$$\n",
    "\n",
    "Note that we can analytically show that for $f(x)=x^{2}$ (it is the\n",
    "variance of $x$)\n",
    "$$\n",
    "\\int f(x)g(x)dx=1\n",
    "$$"
   ]
  },
  {
   "cell_type": "code",
   "execution_count": 15,
   "metadata": {},
   "outputs": [],
   "source": [
    "# Define the function \n",
    "f = lambda x: x**2"
   ]
  },
  {
   "cell_type": "markdown",
   "metadata": {},
   "source": [
    "### 1. Approximate the integral using *Monte Carlo integration*."
   ]
  },
  {
   "cell_type": "code",
   "execution_count": 16,
   "metadata": {},
   "outputs": [
    {
     "name": "stdout",
     "output_type": "stream",
     "text": [
      "0.997344436151275\n"
     ]
    }
   ],
   "source": [
    "num_draws = 1000 # number of MC draws\n",
    "np.random.seed(2023) # set seed to make sure the results are the same\n",
    "x_mc = np.random.normal(size=num_draws) # draw from standard normal distribution\n",
    "Efx_MC = np.mean(f(x_mc))\n",
    "print(Efx_MC)"
   ]
  },
  {
   "cell_type": "code",
   "execution_count": 17,
   "metadata": {},
   "outputs": [],
   "source": [
    "#Create a function for later use\n",
    "def integrate_MC(f,num_points):\n",
    "    np.random.seed(2023)\n",
    "    x = np.random.normal(size=num_points) \n",
    "    return np.mean(f(x))"
   ]
  },
  {
   "cell_type": "markdown",
   "metadata": {},
   "source": [
    "### 2. Approximate the integral using *Gauss-Hermite integration*."
   ]
  },
  {
   "attachments": {},
   "cell_type": "markdown",
   "metadata": {},
   "source": [
    "Gauss-Hermite approximation:\n",
    "\n",
    "\\begin{align*}\n",
    "    \\int_{-\\infty}^{\\infty} f(x) \\exp\\{-x^2\\} dx = \\sum^n_{i=1} \\omega_{gauss,i} f(x_{gauss,i}) +\\text{error term}\n",
    "\\end{align*}\n",
    "\n",
    "Hint: The goal is to rewrite the integration problem ,$\\int x^{2}dg(x),\\,\\,\\,x\\sim\\mathcal{N}(0,1)\n",
    "$, with a change of variable such that $g(z) = \\exp\\{-x^2\\}$, where z is the change of variable that makes the approximation work."
   ]
  },
  {
   "cell_type": "code",
   "execution_count": 18,
   "metadata": {},
   "outputs": [
    {
     "name": "stdout",
     "output_type": "stream",
     "text": [
      "1.000000000000002\n"
     ]
    }
   ],
   "source": [
    "num_points = 5\n",
    "\n",
    "# get \"raw\" hermite nodes and weights\n",
    "x_gauss,w_gauss = tools.gauss_hermite(num_points)\n",
    "x_gauss = x_gauss*np.sqrt(2) # scale nodes\n",
    "w_gauss = w_gauss * (1/ np.sqrt(np.pi))\n",
    "\n",
    "# evaluate expectation\n",
    "Efx_gauss = f(x_gauss.T) @ w_gauss\n",
    "print(Efx_gauss)"
   ]
  },
  {
   "cell_type": "code",
   "execution_count": 19,
   "metadata": {},
   "outputs": [],
   "source": [
    "# construct function for use below\n",
    "def integrate_gauss(f,num_points):                          # Define a function that takes a function f and a number of points as input\n",
    "    x_gauss,w_gauss = tools.gauss_hermite(num_points)       # Get the nodes and weights\n",
    "    return f(np.sqrt(2)*x_gauss.T)@w_gauss/np.sqrt(np.pi)   # Return the expectation"
   ]
  },
  {
   "cell_type": "markdown",
   "metadata": {},
   "source": [
    "### 3. Compare the two methods across various number of grid points. How few grid points do you need for Gauss-Hermite integration?"
   ]
  },
  {
   "cell_type": "code",
   "execution_count": 20,
   "metadata": {},
   "outputs": [
    {
     "name": "stdout",
     "output_type": "stream",
     "text": [
      "Number of grid points:    1\n",
      "MC:    0.5065\n",
      "gauss: 0.0000\n",
      "True value:  1.0000\n",
      "time: 0.00034618378 seconds\n",
      "\n",
      "Number of grid points:    2\n",
      "MC:    0.3059\n",
      "gauss: 1.0000\n",
      "True value:  1.0000\n",
      "time: 0.00012397766 seconds\n",
      "\n",
      "Number of grid points:    3\n",
      "MC:    0.5385\n",
      "gauss: 1.0000\n",
      "True value:  1.0000\n",
      "time: 0.00033593178 seconds\n",
      "\n",
      "Number of grid points:    10\n",
      "MC:    2.1859\n",
      "gauss: 1.0000\n",
      "True value:  1.0000\n",
      "time: 0.00013899803 seconds\n",
      "\n",
      "Number of grid points:    50\n",
      "MC:    1.1788\n",
      "gauss: 1.0000\n",
      "True value:  1.0000\n",
      "time: 0.00060892105 seconds\n",
      "\n",
      "Number of grid points:    100\n",
      "MC:    1.2652\n",
      "gauss: 1.0000\n",
      "True value:  1.0000\n",
      "time: 0.0076768398 seconds\n",
      "\n",
      "Number of grid points:    1000\n",
      "MC:    0.9973\n",
      "gauss: 1.0000\n",
      "True value:  1.0000\n",
      "time: 1.0791421 seconds\n",
      "\n",
      "Number of grid points:    3000\n",
      "MC:    0.9641\n",
      "True value:  1.0000\n",
      "time: 0.00035572052 seconds\n",
      "\n",
      "Number of grid points:    900000\n",
      "MC:    0.9997\n",
      "True value:  1.0000\n",
      "time: 0.02859807 seconds\n",
      "\n"
     ]
    }
   ],
   "source": [
    "num_array = [1,2,3,10,50,100,1000,3000,900000]\n",
    "\n",
    "# We check the time\n",
    "import time\n",
    "\n",
    "for i,num in enumerate(num_array):   # i is the index, and num is the corresponding value: num_array[i]=num\n",
    "    t0 = time.time()  # set the starting time\n",
    "    print(f'Number of grid points:    {num}')\n",
    "    print(f'MC:    {integrate_MC(f,num):.4f}')\n",
    "    if num < 1500:\n",
    "        print(f'gauss: {integrate_gauss(f,num):.4f}')\n",
    "    print(f'True value:  {1:.4f}')\n",
    "    t1 = time.time() # set the ending time\n",
    "    print(f'time: {t1-t0:.8} seconds') # print the total time\n",
    "    print(f'')\n"
   ]
  },
  {
   "cell_type": "markdown",
   "metadata": {},
   "source": [
    "### 4. Change the function f and see what happens."
   ]
  },
  {
   "cell_type": "code",
   "execution_count": 21,
   "metadata": {},
   "outputs": [
    {
     "name": "stdout",
     "output_type": "stream",
     "text": [
      "Number of grid points:    1\n",
      "gauss: 1.0000\n",
      "MC:    2.0374\n",
      "True value:  1.6487\n",
      "\n",
      "Number of grid points:    2\n",
      "gauss: 1.5431\n",
      "MC:    1.3801\n",
      "True value:  1.6487\n",
      "\n",
      "Number of grid points:    3\n",
      "gauss: 1.6382\n",
      "MC:    1.0425\n",
      "True value:  1.6487\n",
      "\n",
      "Number of grid points:    4\n",
      "gauss: 1.6480\n",
      "MC:    1.0985\n",
      "True value:  1.6487\n",
      "\n",
      "Number of grid points:    5\n",
      "gauss: 1.6487\n",
      "MC:    1.0594\n",
      "True value:  1.6487\n",
      "\n",
      "Number of grid points:    10\n",
      "gauss: 1.6487\n",
      "MC:    2.5204\n",
      "True value:  1.6487\n",
      "\n",
      "Number of grid points:    50\n",
      "gauss: 1.6487\n",
      "MC:    1.5695\n",
      "True value:  1.6487\n",
      "\n",
      "Number of grid points:    100\n",
      "gauss: 1.6487\n",
      "MC:    1.7393\n",
      "True value:  1.6487\n",
      "\n",
      "Number of grid points:    500\n",
      "gauss: 1.6487\n",
      "MC:    1.6985\n",
      "True value:  1.6487\n",
      "\n",
      "Number of grid points:    3000\n",
      "MC:    1.5847\n",
      "True value:  1.6487\n",
      "\n"
     ]
    }
   ],
   "source": [
    "num_array = [1,2,3,4,5,10,50,100,500,3000]\n",
    "\n",
    "# New function\n",
    "g = lambda x: np.exp(x)\n",
    "\n",
    "for i,num in enumerate(num_array): # i is the index, and num is the corresponding value: num_array[i]=num\n",
    "    print(f'Number of grid points:    {num}')\n",
    "    if num < 1500:\n",
    "        print(f'gauss: {integrate_gauss(g,num):.4f}')\n",
    "    print(f'MC:    {integrate_MC(g,num):.4f}')\n",
    "    print(f'True value:  {np.exp(1/2):.4f}')\n",
    "    print(f'')"
   ]
  },
  {
   "cell_type": "markdown",
   "metadata": {},
   "source": [
    "As long as the polynomial we solve for is 2n-1, the Gauss version will be better.\n",
    "\n",
    "\n",
    "Having a ton of shocks, Monte Carlo will be better, as the Gauss will compute the expectation for most things. Even though the chances for them happening are infintetisammly small "
   ]
  }
 ],
 "metadata": {
  "kernelspec": {
   "display_name": "base",
   "language": "python",
   "name": "python3"
  },
  "language_info": {
   "codemirror_mode": {
    "name": "ipython",
    "version": 3
   },
   "file_extension": ".py",
   "mimetype": "text/x-python",
   "name": "python",
   "nbconvert_exporter": "python",
   "pygments_lexer": "ipython3",
   "version": "3.12.2"
  },
  "vscode": {
   "interpreter": {
    "hash": "d23f3ceec305a45481076084313530cecc6283a24046b34365f00383ab0a81b1"
   }
  }
 },
 "nbformat": 4,
 "nbformat_minor": 4
}
