{
 "cells": [
  {
   "cell_type": "code",
   "execution_count": 1,
   "metadata": {},
   "outputs": [],
   "source": [
    "import fixed_income_derivatives_E2024 as fid\n",
    "from numpy.linalg import solve, inv\n",
    "import matplotlib.pyplot as plt\n",
    "import numpy as np\n",
    "from scipy.optimize import minimize, root_scalar, minimize_scalar\n",
    "from scipy.stats import norm, ncx2, gamma\n",
    "import copy\n",
    "import pandas as pd\n",
    "from concurrent.futures import ProcessPoolExecutor\n",
    "import seaborn as sns"
   ]
  },
  {
   "cell_type": "code",
   "execution_count": 2,
   "metadata": {},
   "outputs": [],
   "source": [
    "EURIBOR_fixing = [{\"id\": 0,\"instrument\": \"libor\",\"maturity\": 1/2, \"rate\": 0.0430136}]\n",
    "fra_market = [{\"id\": 1,\"instrument\": \"fra\",\"exercise\": 1/12,\"maturity\": 7/12, \"rate\": 0.0455066},\n",
    "{\"id\": 2,\"instrument\": \"fra\",\"exercise\": 2/12,\"maturity\": 8/12, \"rate\": 0.0477436},\n",
    "{\"id\": 3,\"instrument\": \"fra\",\"exercise\": 3/12,\"maturity\": 9/12, \"rate\": 0.0497492},\n",
    "{\"id\": 4,\"instrument\": \"fra\",\"exercise\": 4/12,\"maturity\": 10/12, \"rate\": 0.0515456},\n",
    "{\"id\": 5,\"instrument\": \"fra\",\"exercise\": 5/12,\"maturity\": 11/12, \"rate\": 0.0531529},\n",
    "{\"id\": 6,\"instrument\": \"fra\",\"exercise\": 6/12,\"maturity\": 12/12, \"rate\": 0.0545893},\n",
    "{\"id\": 7,\"instrument\": \"fra\",\"exercise\": 7/12,\"maturity\": 13/12, \"rate\": 0.0558712},\n",
    "{\"id\": 8,\"instrument\": \"fra\",\"exercise\": 8/12,\"maturity\": 14/12, \"rate\": 0.0570135},\n",
    "{\"id\": 9,\"instrument\": \"fra\",\"exercise\": 9/12,\"maturity\": 15/12, \"rate\": 0.0580298}]\n",
    "swap_market = [{\"id\": 10,\"instrument\": \"swap\",\"maturity\": 2, \"rate\": 0.0558702, \"float_freq\": \"semiannual\", \"fixed_freq\": \"annual\",\"indices\": []},\n",
    "{\"id\": 11,\"instrument\": \"swap\",\"maturity\": 3, \"rate\": 0.058811, \"float_freq\": \"semiannual\", \"fixed_freq\": \"annual\",\"indices\": []},\n",
    "{\"id\": 12,\"instrument\": \"swap\",\"maturity\": 4, \"rate\": 0.0600937, \"float_freq\": \"semiannual\", \"fixed_freq\": \"annual\",\"indices\": []},\n",
    "{\"id\": 13,\"instrument\": \"swap\",\"maturity\": 5, \"rate\": 0.0605263, \"float_freq\": \"semiannual\", \"fixed_freq\": \"annual\",\"indices\": []},\n",
    "{\"id\": 14,\"instrument\": \"swap\",\"maturity\": 7, \"rate\": 0.0601899, \"float_freq\": \"semiannual\", \"fixed_freq\": \"annual\",\"indices\": []},\n",
    "{\"id\": 15,\"instrument\": \"swap\",\"maturity\": 10, \"rate\": 0.0586669, \"float_freq\": \"semiannual\", \"fixed_freq\": \"annual\",\"indices\": []},\n",
    "{\"id\": 16,\"instrument\": \"swap\",\"maturity\": 15, \"rate\": 0.0562267, \"float_freq\": \"semiannual\", \"fixed_freq\": \"annual\",\"indices\": []},\n",
    "{\"id\": 17,\"instrument\": \"swap\",\"maturity\": 20, \"rate\": 0.0547351, \"float_freq\": \"semiannual\", \"fixed_freq\": \"annual\",\"indices\": []},\n",
    "{\"id\": 18,\"instrument\": \"swap\",\"maturity\": 30, \"rate\": 0.0535523, \"float_freq\": \"semiannual\", \"fixed_freq\": \"annual\",\"indices\": []}]\n",
    "data = EURIBOR_fixing + fra_market + swap_market\n",
    "\n",
    "a = 0.15\n",
    "sigma = 0.01\n",
    "mesh = 1/12\n",
    "M = 360\n",
    "T = np.array([mesh*i for i in range(0,M+1)])"
   ]
  }
 ],
 "metadata": {
  "kernelspec": {
   "display_name": "base",
   "language": "python",
   "name": "python3"
  },
  "language_info": {
   "codemirror_mode": {
    "name": "ipython",
    "version": 3
   },
   "file_extension": ".py",
   "mimetype": "text/x-python",
   "name": "python",
   "nbconvert_exporter": "python",
   "pygments_lexer": "ipython3",
   "version": "3.12.2"
  }
 },
 "nbformat": 4,
 "nbformat_minor": 2
}
