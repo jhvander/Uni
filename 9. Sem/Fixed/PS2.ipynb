{
 "cells": [
  {
   "cell_type": "code",
   "execution_count": 4,
   "metadata": {},
   "outputs": [],
   "source": [
    "import fixed_income_derivatives_E2024 as fid\n",
    "import matplotlib.pyplot as plt\n",
    "import numpy as np\n",
    "import copy\n"
   ]
  },
  {
   "cell_type": "code",
   "execution_count": 5,
   "metadata": {},
   "outputs": [],
   "source": [
    "EURIBOR_fixing = [{\"id\": 0,\"instrument\": \"libor\",\"maturity\": 1/2, \"rate\":0.00967}]\n",
    "fra_market = [{\"id\": 1,\"instrument\": \"fra\",\"exercise\": 1/12,\"maturity\": 7/12,\n",
    "\"rate\": 0.00980},\n",
    "{\"id\": 2,\"instrument\": \"fra\",\"exercise\": 2/12,\"maturity\": 8/12, \"rate\": 0.01043},\n",
    "{\"id\": 3,\"instrument\": \"fra\",\"exercise\": 3/12,\"maturity\": 9/12, \"rate\": 0.01130},\n",
    "{\"id\": 4,\"instrument\": \"fra\",\"exercise\": 4/12,\"maturity\": 10/12, \"rate\": 0.01217},\n",
    "{\"id\": 5,\"instrument\": \"fra\",\"exercise\": 5/12,\"maturity\": 11/12, \"rate\": 0.01317},\n",
    "{\"id\": 6,\"instrument\": \"fra\",\"exercise\": 6/12,\"maturity\": 12/12, \"rate\": 0.01399},\n",
    "{\"id\": 7,\"instrument\": \"fra\",\"exercise\": 7/12,\"maturity\": 13/12, \"rate\": 0.01478},\n",
    "{\"id\": 8,\"instrument\": \"fra\",\"exercise\": 8/12,\"maturity\": 14/12, \"rate\": 0.01560},\n",
    "{\"id\": 9,\"instrument\": \"fra\",\"exercise\": 9/12,\"maturity\": 15/12, \"rate\": 0.01637}]\n",
    "swap_market = [{\"id\": 10,\"instrument\": \"swap\",\"maturity\": 2, \"rate\": 0.01652,\n",
    "\"float_freq\": \"semiannual\", \"fixed_freq\": \"annual\",\"indices\": []},\n",
    "{\"id\": 11,\"instrument\": \"swap\",\"maturity\": 3, \"rate\": 0.02019, \"float_freq\":\n",
    "\"semiannual\", \"fixed_freq\": \"annual\",\"indices\": []},\n",
    "{\"id\": 12,\"instrument\": \"swap\",\"maturity\": 4, \"rate\": 0.02319, \"float_freq\":\n",
    "\"semiannual\", \"fixed_freq\": \"annual\",\"indices\": []},\n",
    "{\"id\": 13,\"instrument\": \"swap\",\"maturity\": 5, \"rate\": 0.02577, \"float_freq\":\n",
    "\"semiannual\", \"fixed_freq\": \"annual\",\"indices\": []},\n",
    "{\"id\": 14,\"instrument\": \"swap\",\"maturity\": 7, \"rate\": 0.02995, \"float_freq\":\n",
    "\"semiannual\", \"fixed_freq\": \"annual\",\"indices\": []},\n",
    "{\"id\": 15,\"instrument\": \"swap\",\"maturity\": 10, \"rate\": 0.03395, \"float_freq\":\n",
    "\"semiannual\", \"fixed_freq\": \"annual\",\"indices\": []},\n",
    "{\"id\": 16,\"instrument\": \"swap\",\"maturity\": 15, \"rate\": 0.03753, \"float_freq\":\n",
    "\"semiannual\", \"fixed_freq\": \"annual\",\"indices\": []},\n",
    "{\"id\": 17,\"instrument\": \"swap\",\"maturity\": 20, \"rate\": 0.03873, \"float_freq\":\n",
    "\"semiannual\", \"fixed_freq\": \"annual\",\"indices\": []},\n",
    "{\"id\": 18,\"instrument\": \"swap\",\"maturity\": 30, \"rate\": 0.03975, \"float_freq\":\n",
    "\"semiannual\", \"fixed_freq\": \"annual\",\"indices\": []}]\n",
    "data = EURIBOR_fixing + fra_market + swap_market"
   ]
  },
  {
   "cell_type": "code",
   "execution_count": 8,
   "metadata": {},
   "outputs": [
    {
     "ename": "TypeError",
     "evalue": "zcb_curve_interpolate() got an unexpected keyword argument 'resolution'",
     "output_type": "error",
     "traceback": [
      "\u001b[0;31m---------------------------------------------------------------------------\u001b[0m",
      "\u001b[0;31mTypeError\u001b[0m                                 Traceback (most recent call last)",
      "Cell \u001b[0;32mIn[8], line 4\u001b[0m\n\u001b[1;32m      1\u001b[0m interpolation_options \u001b[38;5;241m=\u001b[39m {\u001b[38;5;124m\"\u001b[39m\u001b[38;5;124mmethod\u001b[39m\u001b[38;5;124m\"\u001b[39m:\u001b[38;5;124m\"\u001b[39m\u001b[38;5;124mhermite\u001b[39m\u001b[38;5;124m\"\u001b[39m,\u001b[38;5;124m\"\u001b[39m\u001b[38;5;124mdegree\u001b[39m\u001b[38;5;124m\"\u001b[39m:\u001b[38;5;241m2\u001b[39m,\u001b[38;5;124m\"\u001b[39m\u001b[38;5;124mtransition\u001b[39m\u001b[38;5;124m\"\u001b[39m :\u001b[38;5;124m\"\u001b[39m\u001b[38;5;124msmooth\u001b[39m\u001b[38;5;124m\"\u001b[39m}\n\u001b[1;32m      2\u001b[0m T_fit, R_fit \u001b[38;5;241m=\u001b[39m fid\u001b[38;5;241m.\u001b[39mzcb_curve_fit(data,interpolation_options \u001b[38;5;241m=\u001b[39m\n\u001b[1;32m      3\u001b[0m interpolation_options)\n\u001b[0;32m----> 4\u001b[0m p_inter, R_inter, f_inter, T_inter \u001b[38;5;241m=\u001b[39m fid\u001b[38;5;241m.\u001b[39mzcb_curve_interpolate(T_fit,R_fit, interpolation_options \u001b[38;5;241m=\u001b[39m interpolation_options, resolution \u001b[38;5;241m=\u001b[39m \u001b[38;5;241m1\u001b[39m)\n",
      "\u001b[0;31mTypeError\u001b[0m: zcb_curve_interpolate() got an unexpected keyword argument 'resolution'"
     ]
    }
   ],
   "source": [
    "interpolation_options = {\"method\":\"hermite\",\"degree\":2,\"transition\" :\"smooth\"}\n",
    "T_fit, R_fit = fid.zcb_curve_fit(data,interpolation_options =\n",
    "interpolation_options)\n",
    "p_inter, R_inter, f_inter, T_inter = fid.zcb_curve_interpolate(T_fit,R_fit, interpolation_options = interpolation_options, resolution = 1)\n"
   ]
  },
  {
   "cell_type": "code",
   "execution_count": null,
   "metadata": {},
   "outputs": [],
   "source": []
  }
 ],
 "metadata": {
  "kernelspec": {
   "display_name": "base",
   "language": "python",
   "name": "python3"
  },
  "language_info": {
   "codemirror_mode": {
    "name": "ipython",
    "version": 3
   },
   "file_extension": ".py",
   "mimetype": "text/x-python",
   "name": "python",
   "nbconvert_exporter": "python",
   "pygments_lexer": "ipython3",
   "version": "3.12.2"
  }
 },
 "nbformat": 4,
 "nbformat_minor": 2
}
