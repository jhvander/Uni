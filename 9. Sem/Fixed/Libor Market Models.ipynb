{
 "cells": [
  {
   "cell_type": "code",
   "execution_count": 26,
   "metadata": {},
   "outputs": [],
   "source": [
    "import numpy as np\n",
    "import fixed_income_derivatives_E2024 as fid\n",
    "from scipy.linalg import sqrtm\n",
    "# import finance_jls as fin\n",
    "import matplotlib.pyplot as plt\n",
    "\n"
   ]
  },
  {
   "cell_type": "code",
   "execution_count": 27,
   "metadata": {},
   "outputs": [],
   "source": [
    "M = 6\n",
    "alpha = 1\n",
    "strike = 0.045\n",
    "R = np.array([np.nan,0.03731561,0.04106146,0.04370112,0.04556125,0.04687207])\n",
    "sigma_market_1b = np.array([0,0,0.041,0.052,0.065,0.083])\n",
    "sigma_market_1d = np.array([0,0,0.045,0.057,0.073,0.096])\n"
   ]
  },
  {
   "cell_type": "code",
   "execution_count": 28,
   "metadata": {},
   "outputs": [
    {
     "name": "stdout",
     "output_type": "stream",
     "text": [
      "caplet prices: [0.         0.         0.00113107 0.0046534  0.00640761 0.00721615]\n",
      "cap price: 194.0822018283546.\n",
      "R_swap_1b: 0.04763270099674098, S_swap_1b: 4.3861317034117775\n",
      "cap annual premium_1b: 44.24905929691685\n",
      "cap price: 182.77154318542586.\n",
      "R_swap_1c: 0.05199950984678004, S_swap_1c: 2.501600942990318\n",
      "cap annual premium: 73.06183014423866\n"
     ]
    }
   ],
   "source": [
    "# Problem 1\n",
    "strike = 0.045\n",
    "T = np.array([m*alpha for m in range(0,M)])\n",
    "p = np.ones(M)\n",
    "L, price_caplet_1, alpha = np.zeros([M]), np.zeros(M), np.zeros(M)\n",
    "sigma_lmm = np.ones(M)\n",
    "for i in range(1,M):\n",
    "    p[i] = np.exp(-R[i]*T[i])\n",
    "    alpha[i] = T[i]-T[i-1]\n",
    "    L[i] = (1/alpha[i])*(p[i-1] - p[i])/p[i]\n",
    "    if i > 1:\n",
    "        price_caplet_1[i] = fid.black_caplet_price(sigma_market_1b[i],T[i],strike,alpha[i],p[i],L[i],type = 'call')\n",
    "print(f\"caplet prices: {price_caplet_1}\")\n",
    "price_cap_1b = sum(price_caplet_1)\n",
    "print(f\"cap price: {price_cap_1b*10000}.\")\n",
    "R_swap_1b, S_swap_1b = fid.swap_rate_from_zcb_prices(0,0,5,\"annual\",T,p)\n",
    "print(f\"R_swap_1b: {R_swap_1b}, S_swap_1b: {S_swap_1b}\")\n",
    "premium_1b = price_cap_1b/S_swap_1b\n",
    "print(f\"cap annual premium_1b: {premium_1b*10000}\")\n",
    "price_cap_1c = sum(price_caplet_1[3:])\n",
    "print(f\"cap price: {price_cap_1c*10000}.\")\n",
    "R_swap_1c, S_swap_1c = fid.swap_rate_from_zcb_prices(0,2,5,\"annual\",T,p)\n",
    "print(f\"R_swap_1c: {R_swap_1c}, S_swap_1c: {S_swap_1c}\")\n",
    "premium_1c = price_cap_1c/S_swap_1c\n",
    "print(f\"cap annual premium: {premium_1c*10000}\")\n"
   ]
  },
  {
   "cell_type": "code",
   "execution_count": null,
   "metadata": {},
   "outputs": [
    {
     "name": "stdout",
     "output_type": "stream",
     "text": [
      "caplet prices: [0.00000000e+00 0.00000000e+00 1.99098141e-05 1.50216017e-03\n",
      " 3.33714201e-03 4.70558268e-03]\n",
      "cap price: 95.64794671943106.\n",
      "R_swap_2b: 0.04763270099674098, S_swap_2b: 4.3861317034117775\n",
      "cap annual premium_2b: 21.80690257089881\n"
     ]
    }
   ],
   "source": [
    "# Problem 2\n",
    "strike = 0.05\n",
    "price_caplet_2 = np.zeros(M)\n",
    "for i in range(2,M):\n",
    "    price_caplet_2[i] = fid.black_caplet_price(sigma_market_1d[i],T[i],strike,alpha[i],p[i],L[i],type = 'call')\n",
    "print(f\"caplet prices: {price_caplet_2}\")\n",
    "price_cap_2b = sum(price_caplet_2)\n",
    "print(f\"cap price: {price_cap_2b*10000}.\")\n",
    "R_swap_2b, S_swap_2b = fid.swap_rate_from_zcb_prices(0,0,5,\"annual\",T,p)\n",
    "print(f\"R_swap_2b: {R_swap_2b}, S_swap_2b: {S_swap_2b}\")\n",
    "premium_2b = price_cap_2b/S_swap_2b\n",
    "print(f\"cap annual premium_2b: {premium_2b*10000}\")\n"
   ]
  },
  {
   "cell_type": "code",
   "execution_count": null,
   "metadata": {},
   "outputs": [
    {
     "ename": "AttributeError",
     "evalue": "module 'fixed_income_derivatives_E2024' has no attribute 'simul_lmm'",
     "output_type": "error",
     "traceback": [
      "\u001b[0;31m---------------------------------------------------------------------------\u001b[0m",
      "\u001b[0;31mAttributeError\u001b[0m                            Traceback (most recent call last)",
      "Cell \u001b[0;32mIn[30], line 9\u001b[0m\n\u001b[1;32m      7\u001b[0m rho_sqrt \u001b[38;5;241m=\u001b[39m sqrtm(rho)\n\u001b[1;32m      8\u001b[0m \u001b[38;5;66;03m# print(np.matmul(rho_sqrt, np.transpose(rho_sqrt)))\u001b[39;00m\n\u001b[0;32m----> 9\u001b[0m L_simul \u001b[38;5;241m=\u001b[39m fid\u001b[38;5;241m.\u001b[39msimul_lmm(L[\u001b[38;5;241m2\u001b[39m:M],T[\u001b[38;5;241m1\u001b[39m:M],sigma_lmm,rho,M_simul)\n\u001b[1;32m     10\u001b[0m t_simul \u001b[38;5;241m=\u001b[39m np\u001b[38;5;241m.\u001b[39marray([i\u001b[38;5;241m*\u001b[39mT_simul\u001b[38;5;241m/\u001b[39mM_simul \u001b[38;5;28;01mfor\u001b[39;00m i \u001b[38;5;129;01min\u001b[39;00m \u001b[38;5;28mrange\u001b[39m(\u001b[38;5;241m0\u001b[39m,M_simul\u001b[38;5;241m+\u001b[39m\u001b[38;5;241m1\u001b[39m)])\n\u001b[1;32m     12\u001b[0m strike_lmm \u001b[38;5;241m=\u001b[39m \u001b[38;5;241m0.0475\u001b[39m\n",
      "\u001b[0;31mAttributeError\u001b[0m: module 'fixed_income_derivatives_E2024' has no attribute 'simul_lmm'"
     ]
    }
   ],
   "source": [
    "# Problem 3 - Simulation of the Libor market model\n",
    "M_simul, T_simul = 400, 4\n",
    "sigma_lmm = np.zeros([M-2])\n",
    "for i in range(0,M-2):\n",
    "    sigma_lmm[i] = sigma_market_1b[i+2]*np.sqrt(T[i+2]/T[i+1])\n",
    "rho = np.array([[1,0.5,0.9,0.85],[0.95,1,0.95,0.9],[0.9,0.95,1,0.95],[0.85,0.9,0.95,1]])\n",
    "rho_sqrt = sqrtm(rho)\n",
    "# print(np.matmul(rho_sqrt, np.transpose(rho_sqrt)))\n",
    "L_simul = fid.simul_lmm(L[2:M],T[1:M],sigma_lmm,rho,M_simul)\n",
    "t_simul = np.array([i*T_simul/M_simul for i in range(0,M_simul+1)])\n",
    "\n",
    "strike_lmm = 0.0475\n",
    "N_simul = 1000\n",
    "caplet_price_3, L_exercise = np.zeros(M-2), np.zeros(M-2)\n",
    "chi_disc = np.zeros([M-2,N_simul])\n",
    "for n in range(0,N_simul):\n",
    "    L_simul = fid.simul_lmm(L[2:M],T[1:M],sigma_lmm,rho,M_simul)\n",
    "    for j in range(0,M-2):\n",
    "        L_exercise[j] = L_simul[j,int(j*M_simul/4)+1]\n",
    "        chi_disc[j,n] = p[-1]*alpha[j+2]*max(L_exercise[j] - strike_lmm,0)\n",
    "        for k in range(j,M-2):\n",
    "            chi_disc[j,n] *= (1+alpha[k+2]*L_exercise[k])\n",
    "for i in range(0,M-2):\n",
    "    caplet_price_3[i] = sum(chi_disc[i,:])/N_simul*10000\n",
    "print(f\"caplet_price for a strike of {strike_lmm} is {caplet_price_3}, cap price: {sum(caplet_price_3)}\")\n"
   ]
  },
  {
   "cell_type": "code",
   "execution_count": null,
   "metadata": {},
   "outputs": [],
   "source": [
    "fig = plt.figure(constrained_layout=False, dpi = 300, figsize = (5,3))\n",
    "fig.suptitle(f\"Simulated Libor rates in the LIbor Market Model\", fontsize = 9)\n",
    "gs = fig.add_gridspec(nrows=1,ncols=1,left=0.12,bottom=0.2,right=0.88,top=0.90,wspace=0,hspace=0)\n",
    "ax = fig.add_subplot(gs[0,0])\n",
    "xticks = np.array([0,1,2,3,4])\n",
    "ax.set_xticks(xticks)\n",
    "ax.set_xticklabels(xticks,fontsize = 6)\n",
    "ax.set_xlim([xticks[0]+-0.2,xticks[-1]+0.2])\n",
    "# ax.set_xlim([xticks[0]+-0.2,2+0.2])\n",
    "plt.xlabel(f\"Time\",fontsize = 6)\n",
    "ax.set_yticks([0,0.02,0.04,0.06,0.08])\n",
    "ax.set_yticklabels([0,0.02,0.04,0.06,0.08],fontsize = 6)\n",
    "ax.set_ylim([0,0.0825])\n",
    "plt.grid(axis = 'y', which='major', color=(0.7,0.7,0.7,0), linestyle='--')\n",
    "p1 = ax.scatter(t_simul, L_simul[0,:], s = 1, color = 'black', marker = \".\",label=\"L_2(t)\")\n",
    "p2 = ax.scatter(t_simul, L_simul[1,:], s = 1, color = 'red', marker = \".\",label=\"L_3(t)\")\n",
    "p3 = ax.scatter(t_simul, L_simul[2,:], s = 1, color = 'blue', marker = \".\",label=\"L_4(t)\")\n",
    "p4 = ax.scatter(t_simul, L_simul[3,:], s = 1, color = 'green', marker = \".\",label=\"L_5(t)\")\n",
    "plots = [p1,p2,p3,p4]\n",
    "labels = [item.get_label() for item in plots]\n",
    "ax.legend(plots,labels,loc=\"lower right\",fontsize = 6)\n",
    "plt.show()\n",
    "\n",
    "fig = plt.figure(constrained_layout=False, dpi = 300, figsize = (5,3))\n",
    "fig.suptitle(f\"Spot- and 1Y forward Libor rates\", fontsize = 9)\n",
    "gs = fig.add_gridspec(nrows=1,ncols=1,left=0.12,bottom=0.2,right=0.88,top=0.90,wspace=0,hspace=0)\n",
    "ax = fig.add_subplot(gs[0,0])\n",
    "xticks = [0,1,2,3,4,5,6]\n",
    "ax.set_xticks(xticks)\n",
    "ax.set_xticklabels(xticks,fontsize = 6)\n",
    "ax.set_xlim([xticks[0]+-0.2,xticks[-1]+0.2])\n",
    "plt.xlabel(f\"Maturity\",fontsize = 6)\n",
    "ax.set_yticks([0,0.01,0.02,0.03,0.04,0.05,0.06])\n",
    "ax.set_yticklabels([0,0.01,0.02,0.03,0.04,0.05,0.06],fontsize = 6)\n",
    "ax.set_ylim([0,0.0625])\n",
    "plt.grid(axis = 'y', which='major', color=(0.7,0.7,0.7,0), linestyle='--')\n",
    "p1 = ax.scatter(T[1:], R[1:], s = 2, color = 'black', marker = \".\",label=\"Spot rates\")\n",
    "p2 = ax.scatter(T[1:], L[1:], s = 2, color = 'red', marker = \".\",label=\"1Y forward Libor rates\")\n",
    "plots = [p1,p2]\n",
    "labels = [item.get_label() for item in plots]\n",
    "ax.legend(plots,labels,loc=\"lower right\",fontsize = 6)\n",
    "plt.show()\n"
   ]
  },
  {
   "cell_type": "code",
   "execution_count": null,
   "metadata": {},
   "outputs": [],
   "source": []
  }
 ],
 "metadata": {
  "kernelspec": {
   "display_name": "base",
   "language": "python",
   "name": "python3"
  },
  "language_info": {
   "codemirror_mode": {
    "name": "ipython",
    "version": 3
   },
   "file_extension": ".py",
   "mimetype": "text/x-python",
   "name": "python",
   "nbconvert_exporter": "python",
   "pygments_lexer": "ipython3",
   "version": "3.12.2"
  }
 },
 "nbformat": 4,
 "nbformat_minor": 2
}
