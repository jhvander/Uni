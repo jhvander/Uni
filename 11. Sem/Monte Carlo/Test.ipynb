{
 "cells": [
  {
   "cell_type": "code",
   "execution_count": null,
   "id": "f7c956f9",
   "metadata": {},
   "outputs": [],
   "source": [
    "import numpy as np\n",
    "from scipy import stats\n",
    "\n",
    "def squared(x):\n",
    "    x_sq = x**2\n",
    "    return x_sq\n",
    "\n",
    "\n",
    "\n",
    "\n",
    "def bs_put(stock, sigma, time, rate, strike):\n",
    "    d1 = (np.log(stock / strike) + (rate + 0.5 * sigma**2) * time) / (sigma * np.sqrt(time))\n",
    "    d2 = d1 - sigma * np.sqrt(time)\n",
    "\n",
    "    price = strike * np.exp(-rate * time) * stats.norm.cdf(-d2) - stock * stats.norm.cdf(-d1)\n",
    "    return price\n"
   ]
  },
  {
   "cell_type": "code",
   "execution_count": 4,
   "id": "7d388b42",
   "metadata": {},
   "outputs": [
    {
     "name": "stdout",
     "output_type": "stream",
     "text": [
      "Black-Scholes Put Price: 5.57\n"
     ]
    }
   ],
   "source": [
    "stock_price, strike_price = 100, 100\n",
    "volatility, time_to_maturity, risk_free_rate = 0.2, 1.0, 0.05\n",
    "put_price = bs_put(stock_price, volatility, time_to_maturity, risk_free_rate, strike_price)\n",
    "\n",
    "print(f\"Black-Scholes Put Price: {put_price:.2f}\")"
   ]
  },
  {
   "cell_type": "code",
   "execution_count": null,
   "id": "1ea3ffe2",
   "metadata": {},
   "outputs": [
    {
     "name": "stdout",
     "output_type": "stream",
     "text": [
      "15\n"
     ]
    }
   ],
   "source": [
    "def squared(x, a):\n",
    "    x_sq = x**2 + a\n",
    "    return x_sq\n",
    "\n",
    "a = 5 # Global variable \n",
    "b = 6\n",
    " \n",
    "\n",
    "print(squared(3, a))  # Should print 11\n"
   ]
  },
  {
   "cell_type": "code",
   "execution_count": null,
   "id": "1b33703f",
   "metadata": {},
   "outputs": [
    {
     "name": "stdout",
     "output_type": "stream",
     "text": [
      "54\n"
     ]
    }
   ],
   "source": []
  },
  {
   "cell_type": "code",
   "execution_count": null,
   "id": "db3d462f",
   "metadata": {},
   "outputs": [],
   "source": []
  }
 ],
 "metadata": {
  "kernelspec": {
   "display_name": "base",
   "language": "python",
   "name": "python3"
  },
  "language_info": {
   "codemirror_mode": {
    "name": "ipython",
    "version": 3
   },
   "file_extension": ".py",
   "mimetype": "text/x-python",
   "name": "python",
   "nbconvert_exporter": "python",
   "pygments_lexer": "ipython3",
   "version": "3.12.7"
  }
 },
 "nbformat": 4,
 "nbformat_minor": 5
}
